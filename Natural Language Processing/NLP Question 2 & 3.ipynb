{
 "cells": [
  {
   "cell_type": "code",
   "execution_count": 3,
   "id": "e54e93c7",
   "metadata": {},
   "outputs": [],
   "source": [
    "import pdfplumber\n",
    "import csv\n",
    "from collections import Counter"
   ]
  },
  {
   "cell_type": "code",
   "execution_count": 4,
   "id": "828d06b7",
   "metadata": {},
   "outputs": [],
   "source": [
    "# Open the PDF file\n",
    "pdf_path = '1706.03762.pdf'\n",
    "with pdfplumber.open(pdf_path) as pdf:\n",
    "    # Extract text from each page of the PDF\n",
    "    text = ''\n",
    "    for page in pdf.pages:\n",
    "        text += page.extract_text()"
   ]
  },
  {
   "cell_type": "code",
   "execution_count": 6,
   "id": "21b82107",
   "metadata": {},
   "outputs": [
    {
     "name": "stdout",
     "output_type": "stream",
     "text": [
      "Extracted text from the PDF has been saved in '<_io.TextIOWrapper name='pdf_text.csv' mode='w' encoding='utf-8'>'\n"
     ]
    }
   ],
   "source": [
    "# Store the extracted text in a CSV file\n",
    "csv_file = 'pdf_text.csv'\n",
    "with open(csv_file, 'w', newline='', encoding='utf-8') as csv_file:\n",
    "    writer = csv.writer(csv_file)\n",
    "    writer.writerow(['Text'])\n",
    "    writer.writerow([text])\n",
    "print(f\"Extracted text from the PDF has been saved in '{csv_file}'\")"
   ]
  },
  {
   "cell_type": "code",
   "execution_count": 7,
   "id": "25e460bc",
   "metadata": {},
   "outputs": [
    {
     "name": "stdout",
     "output_type": "stream",
     "text": [
      "The most repeated word in the PDF is: 'the'\n"
     ]
    }
   ],
   "source": [
    "# Find the most repeated word\n",
    "word_count = Counter(text.split())\n",
    "most_common_word = word_count.most_common(1)[0][0]\n",
    "print(f\"The most repeated word in the PDF is: '{most_common_word}'\")"
   ]
  },
  {
   "cell_type": "markdown",
   "id": "d41afffa",
   "metadata": {},
   "source": [
    "# Topic Modelling"
   ]
  },
  {
   "cell_type": "code",
   "execution_count": 17,
   "id": "55458a6a",
   "metadata": {},
   "outputs": [
    {
     "name": "stderr",
     "output_type": "stream",
     "text": [
      "[nltk_data] Downloading package wordnet to\n",
      "[nltk_data]     C:\\Users\\8092\\AppData\\Roaming\\nltk_data...\n",
      "[nltk_data]   Package wordnet is already up-to-date!\n",
      "[nltk_data] Downloading package omw-1.4 to\n",
      "[nltk_data]     C:\\Users\\8092\\AppData\\Roaming\\nltk_data...\n"
     ]
    },
    {
     "data": {
      "text/plain": [
       "True"
      ]
     },
     "execution_count": 17,
     "metadata": {},
     "output_type": "execute_result"
    }
   ],
   "source": [
    "from nltk.corpus import stopwords\n",
    "from nltk.tokenize import word_tokenize\n",
    "from nltk.probability import FreqDist\n",
    "from nltk.stem import WordNetLemmatizer\n",
    "from sklearn.feature_extraction.text import TfidfVectorizer\n",
    "from sklearn.decomposition import LatentDirichletAllocation\n",
    "import nltk\n",
    "nltk.download('wordnet')\n",
    "nltk.download('omw-1.4')"
   ]
  },
  {
   "cell_type": "code",
   "execution_count": 18,
   "id": "a0bf052d",
   "metadata": {},
   "outputs": [],
   "source": [
    "# Load the extracted text from the CSV file\n",
    "csv_file = 'pdf_text.csv'\n",
    "with open(csv_file, 'r', encoding='utf-8') as file:\n",
    "    reader = csv.reader(file)\n",
    "    next(reader)  # Skip the header row\n",
    "    extracted_text = next(reader)[0]"
   ]
  },
  {
   "cell_type": "code",
   "execution_count": 19,
   "id": "07553031",
   "metadata": {},
   "outputs": [],
   "source": [
    "# Tokenize and preprocess the text\n",
    "stop_words = set(stopwords.words('english'))\n",
    "lemmatizer = WordNetLemmatizer()\n"
   ]
  },
  {
   "cell_type": "code",
   "execution_count": 20,
   "id": "c7f5f094",
   "metadata": {},
   "outputs": [],
   "source": [
    "tokens = word_tokenize(extracted_text.lower())\n",
    "tokens = [token for token in tokens if token.isalpha()]\n",
    "tokens = [lemmatizer.lemmatize(token) for token in tokens if token not in stop_words]"
   ]
  },
  {
   "cell_type": "code",
   "execution_count": 21,
   "id": "77a7e2da",
   "metadata": {},
   "outputs": [],
   "source": [
    "# Keyword extraction\n",
    "word_freq = FreqDist(tokens)\n",
    "most_common_keywords = word_freq.most_common(10)  # Change the number to adjust the number of keywords to extract"
   ]
  },
  {
   "cell_type": "code",
   "execution_count": 22,
   "id": "20e5b913",
   "metadata": {},
   "outputs": [
    {
     "name": "stdout",
     "output_type": "stream",
     "text": [
      "Most common keywords:\n",
      "model: 22\n",
      "dap: 20\n",
      "k: 17\n",
      "n: 13\n",
      "layer: 13\n",
      "attention: 12\n",
      "soe: 10\n",
      "transformer: 9\n",
      "x: 8\n",
      "v: 8\n"
     ]
    }
   ],
   "source": [
    "print(\"Most common keywords:\")\n",
    "for keyword, freq in most_common_keywords:\n",
    "    print(f\"{keyword}: {freq}\")\n"
   ]
  },
  {
   "cell_type": "code",
   "execution_count": 23,
   "id": "f6efd722",
   "metadata": {},
   "outputs": [],
   "source": [
    "# Topic modeling with Latent Dirichlet Allocation (LDA)\n",
    "num_topics = 5  # Change the number to adjust the number of topics to extract\n",
    "num_top_words = 5  # Change the number to adjust the number of top words to display for each topic"
   ]
  },
  {
   "cell_type": "code",
   "execution_count": 37,
   "id": "390dbb3b",
   "metadata": {},
   "outputs": [],
   "source": [
    "# Create the TF-IDF matrix\n",
    "vectorizer = TfidfVectorizer(max_df=2, min_df=0.95, stop_words='english')\n",
    "tfidf_matrix = vectorizer.fit_transform([extracted_text])"
   ]
  },
  {
   "cell_type": "code",
   "execution_count": 38,
   "id": "f79e7ffd",
   "metadata": {},
   "outputs": [
    {
     "data": {
      "text/plain": [
       "LatentDirichletAllocation(n_components=5, random_state=42)"
      ]
     },
     "execution_count": 38,
     "metadata": {},
     "output_type": "execute_result"
    }
   ],
   "source": [
    "# Perform LDA\n",
    "lda = LatentDirichletAllocation(n_components=num_topics, random_state=42)\n",
    "lda.fit(tfidf_matrix)"
   ]
  },
  {
   "cell_type": "code",
   "execution_count": 39,
   "id": "4eae7cbb",
   "metadata": {},
   "outputs": [],
   "source": [
    "# Get the top words for each topic\n",
    "feature_names = vectorizer.get_feature_names()\n",
    "topics = []\n",
    "for topic_idx, topic in enumerate(lda.components_):\n",
    "    top_words = [feature_names[i] for i in topic.argsort()[:-num_top_words - 1:-1]]\n",
    "    topics.append(top_words)"
   ]
  },
  {
   "cell_type": "code",
   "execution_count": 40,
   "id": "9912dd75",
   "metadata": {},
   "outputs": [
    {
     "name": "stdout",
     "output_type": "stream",
     "text": [
      "\n",
      "Topics:\n",
      "Topic 1: 512, deep, layer5, models, values\n",
      "Topic 2: 512, deep, layer5, models, values\n",
      "Topic 3: 512, deep, layer5, models, values\n",
      "Topic 4: attention, dap, model, 25, 2016\n",
      "Topic 5: 512, deep, layer5, models, values\n"
     ]
    }
   ],
   "source": [
    "print(\"\\nTopics:\")\n",
    "for topic_idx, topic_words in enumerate(topics):\n",
    "    print(f\"Topic {topic_idx + 1}: {', '.join(topic_words)}\")"
   ]
  },
  {
   "cell_type": "code",
   "execution_count": null,
   "id": "713f9b10",
   "metadata": {},
   "outputs": [],
   "source": []
  }
 ],
 "metadata": {
  "kernelspec": {
   "display_name": "Python 3 (ipykernel)",
   "language": "python",
   "name": "python3"
  },
  "language_info": {
   "codemirror_mode": {
    "name": "ipython",
    "version": 3
   },
   "file_extension": ".py",
   "mimetype": "text/x-python",
   "name": "python",
   "nbconvert_exporter": "python",
   "pygments_lexer": "ipython3",
   "version": "3.9.12"
  }
 },
 "nbformat": 4,
 "nbformat_minor": 5
}
