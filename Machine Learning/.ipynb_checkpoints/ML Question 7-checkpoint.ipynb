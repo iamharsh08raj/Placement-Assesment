{
 "cells": [
  {
   "cell_type": "code",
   "execution_count": 1,
   "id": "bc64ceba",
   "metadata": {},
   "outputs": [],
   "source": [
    "import pandas as pd\n",
    "import seaborn as sns\n",
    "import matplotlib.pyplot as plt\n",
    "from sklearn.model_selection import train_test_split\n",
    "from sklearn.preprocessing import StandardScaler\n",
    "from sklearn.linear_model import LogisticRegression\n",
    "from sklearn.metrics import accuracy_score"
   ]
  },
  {
   "cell_type": "code",
   "execution_count": 2,
   "id": "e59881e0",
   "metadata": {},
   "outputs": [],
   "source": [
    "# Load the training data into a pandas DataFrame\n",
    "train_data = pd.read_csv('data.csv')\n"
   ]
  },
  {
   "cell_type": "code",
   "execution_count": 3,
   "id": "a623a698",
   "metadata": {},
   "outputs": [
    {
     "name": "stdout",
     "output_type": "stream",
     "text": [
      "         filename       tempo  beats  chroma_stft      rmse  \\\n",
      "0  blues.00081.au  103.359375     50     0.380260  0.248262   \n",
      "1  blues.00022.au   95.703125     44     0.306451  0.113475   \n",
      "2  blues.00031.au  151.999081     75     0.253487  0.151571   \n",
      "3  blues.00012.au  184.570312     91     0.269320  0.119072   \n",
      "4  blues.00056.au  161.499023     74     0.391059  0.137728   \n",
      "\n",
      "   spectral_centroid  spectral_bandwidth      rolloff  zero_crossing_rate  \\\n",
      "0        2116.942959         1956.611056  4196.107960            0.127272   \n",
      "1        1156.070496         1497.668176  2170.053545            0.058613   \n",
      "2        1331.073970         1973.643437  2900.174130            0.042967   \n",
      "3        1361.045467         1567.804596  2739.625101            0.069124   \n",
      "4        1811.076084         2052.332563  3927.809582            0.075480   \n",
      "\n",
      "        mfcc1  ...     mfcc12     mfcc13    mfcc14    mfcc15    mfcc16  \\\n",
      "0  -26.929785  ...  14.336612 -13.821769  7.562789 -6.181372  0.330165   \n",
      "1 -233.860772  ...  -2.250578   3.959198  5.322555  0.812028 -1.107202   \n",
      "2 -221.802549  ... -13.037723 -12.652228 -1.821905 -7.260097 -6.660252   \n",
      "3 -207.208080  ...  -0.613248   0.384877  2.605128 -5.188924 -9.527455   \n",
      "4 -145.434568  ...   7.457218 -10.470444 -2.360483 -6.783623  2.671134   \n",
      "\n",
      "      mfcc17     mfcc18     mfcc19     mfcc20  label  \n",
      "0  -6.829571   0.965922  -7.570825   2.918987  blues  \n",
      "1  -4.556555  -2.436490   3.316913  -0.608485  blues  \n",
      "2 -14.682694 -11.719264 -11.025216 -13.387260  blues  \n",
      "3  -9.244394  -2.848274  -1.418707  -5.932607  blues  \n",
      "4  -4.760879  -0.949005   0.024832  -2.005315  blues  \n",
      "\n",
      "[5 rows x 30 columns]\n"
     ]
    }
   ],
   "source": [
    "# Exploratory Data Analysis (EDA)\n",
    "# Display the first few rows of the training data\n",
    "print(train_data.head())"
   ]
  },
  {
   "cell_type": "code",
   "execution_count": 4,
   "id": "4df9bea9",
   "metadata": {},
   "outputs": [
    {
     "data": {
      "text/plain": [
       "blues        100\n",
       "classical    100\n",
       "country      100\n",
       "disco        100\n",
       "hiphop       100\n",
       "jazz         100\n",
       "metal        100\n",
       "pop          100\n",
       "reggae       100\n",
       "rock         100\n",
       "Name: label, dtype: int64"
      ]
     },
     "execution_count": 4,
     "metadata": {},
     "output_type": "execute_result"
    }
   ],
   "source": [
    "train_data['label'].value_counts()"
   ]
  },
  {
   "cell_type": "code",
   "execution_count": 5,
   "id": "5c101b72",
   "metadata": {},
   "outputs": [
    {
     "data": {
      "image/png": "[encoded data removed]",
      "text/plain": [
       "<Figure size 432x288 with 1 Axes>"
      ]
     },
     "metadata": {
      "needs_background": "light"
     },
     "output_type": "display_data"
    }
   ],
   "source": [
    "# Check the distribution of the target variable\n",
    "sns.countplot(x='label', data=train_data)\n",
    "plt.title('Distribution of Genres')\n",
    "plt.show()"
   ]
  },
  {
   "cell_type": "code",
   "execution_count": 6,
   "id": "a239292e",
   "metadata": {},
   "outputs": [],
   "source": [
    "# Define the mapping for label encoding\n",
    "label_mapping = {'pop': 1, 'classical': 2}"
   ]
  },
  {
   "cell_type": "code",
   "execution_count": 7,
   "id": "62294160",
   "metadata": {},
   "outputs": [],
   "source": [
    "# Assign labels for the remaining categories\n",
    "remaining_categories = ['blues', 'country', 'disco', 'hiphop', 'jazz', 'metal', 'reggae', 'rock']\n",
    "for i, category in enumerate(remaining_categories, start=3):\n",
    "    label_mapping[category] = i"
   ]
  },
  {
   "cell_type": "code",
   "execution_count": 8,
   "id": "c8d5770b",
   "metadata": {},
   "outputs": [
    {
     "name": "stdout",
     "output_type": "stream",
     "text": [
      "     label  label_encoded\n",
      "0    blues              3\n",
      "1    blues              3\n",
      "2    blues              3\n",
      "3    blues              3\n",
      "4    blues              3\n",
      "..     ...            ...\n",
      "995   rock             10\n",
      "996   rock             10\n",
      "997   rock             10\n",
      "998   rock             10\n",
      "999   rock             10\n",
      "\n",
      "[1000 rows x 2 columns]\n"
     ]
    }
   ],
   "source": [
    "# Encode the 'label' column\n",
    "train_data['label_encoded'] = train_data['label'].map(label_mapping)\n",
    "\n",
    "# Check the encoded labels\n",
    "print(train_data[['label', 'label_encoded']])"
   ]
  },
  {
   "cell_type": "code",
   "execution_count": 9,
   "id": "1990f1ac",
   "metadata": {},
   "outputs": [],
   "source": [
    "# Split the training data into features (X) and target variable (y)\n",
    "X = train_data.drop(['label', 'filename', 'label_encoded'], axis=1)\n",
    "y = train_data['label_encoded']"
   ]
  },
  {
   "cell_type": "code",
   "execution_count": 10,
   "id": "07df81b3",
   "metadata": {},
   "outputs": [],
   "source": [
    "# Load the test data into a pandas DataFrame\n",
    "test_data = pd.read_csv('data_2genre.csv')"
   ]
  },
  {
   "cell_type": "code",
   "execution_count": 13,
   "id": "9894fa8c",
   "metadata": {},
   "outputs": [],
   "source": [
    "# Split the test data into features (X_test) and target variable (y_test)\n",
    "X_test = test_data.drop(['label', 'filename'], axis=1)\n",
    "y_test = test_data['label']\n"
   ]
  },
  {
   "cell_type": "code",
   "execution_count": 14,
   "id": "06cc6902",
   "metadata": {},
   "outputs": [],
   "source": [
    "# Scale the features\n",
    "scaler = StandardScaler()\n",
    "X = scaler.fit_transform(X)\n",
    "X_test = scaler.transform(X_test)"
   ]
  },
  {
   "cell_type": "code",
   "execution_count": 15,
   "id": "6f27159b",
   "metadata": {},
   "outputs": [
    {
     "data": {
      "text/plain": [
       "LogisticRegression(max_iter=1000, solver='liblinear')"
      ]
     },
     "execution_count": 15,
     "metadata": {},
     "output_type": "execute_result"
    }
   ],
   "source": [
    "# Train the logistic regression model\n",
    "model = LogisticRegression(max_iter=1000, solver='liblinear')\n",
    "model.fit(X, y)"
   ]
  },
  {
   "cell_type": "code",
   "execution_count": 16,
   "id": "920bbc89",
   "metadata": {},
   "outputs": [],
   "source": [
    "# Make predictions on the test set\n",
    "y_pred = model.predict(X_test)"
   ]
  },
  {
   "cell_type": "code",
   "execution_count": 17,
   "id": "61d76b29",
   "metadata": {},
   "outputs": [
    {
     "name": "stdout",
     "output_type": "stream",
     "text": [
      "Accuracy: 0.915\n"
     ]
    }
   ],
   "source": [
    "# Evaluate the accuracy of the model\n",
    "accuracy = accuracy_score(y_test, y_pred)\n",
    "print(f'Accuracy: {accuracy}')"
   ]
  },
  {
   "cell_type": "code",
   "execution_count": null,
   "id": "2df44439",
   "metadata": {},
   "outputs": [],
   "source": []
  }
 ],
 "metadata": {
  "kernelspec": {
   "display_name": "Python 3 (ipykernel)",
   "language": "python",
   "name": "python3"
  },
  "language_info": {
   "codemirror_mode": {
    "name": "ipython",
    "version": 3
   },
   "file_extension": ".py",
   "mimetype": "text/x-python",
   "name": "python",
   "nbconvert_exporter": "python",
   "pygments_lexer": "ipython3",
   "version": "3.9.12"
  }
 },
 "nbformat": 4,
 "nbformat_minor": 5
}
