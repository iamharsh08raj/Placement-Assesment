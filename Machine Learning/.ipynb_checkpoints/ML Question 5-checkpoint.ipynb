{
 "cells": [
  {
   "cell_type": "code",
   "execution_count": 21,
   "id": "aa0ca88a",
   "metadata": {},
   "outputs": [],
   "source": [
    "import pandas as pd\n",
    "import numpy as np\n",
    "from sklearn.cluster import KMeans\n",
    "from sklearn.ensemble import RandomForestRegressor\n",
    "from sklearn.model_selection import train_test_split\n",
    "from sklearn.metrics import mean_squared_error\n",
    "import matplotlib.pyplot as plt"
   ]
  },
  {
   "cell_type": "code",
   "execution_count": 2,
   "id": "b6b930af",
   "metadata": {},
   "outputs": [],
   "source": [
    "# Load the dataset into a Pandas DataFrame\n",
    "df = pd.read_csv('rideshare_kaggle.csv')"
   ]
  },
  {
   "cell_type": "code",
   "execution_count": 3,
   "id": "f287856e",
   "metadata": {},
   "outputs": [
    {
     "name": "stdout",
     "output_type": "stream",
     "text": [
      "                                     id     timestamp  hour  day  month  \\\n",
      "0  424553bb-7174-41ea-aeb4-fe06d4f4b9d7  1.544953e+09     9   16     12   \n",
      "1  4bd23055-6827-41c6-b23b-3c491f24e74d  1.543284e+09     2   27     11   \n",
      "2  981a3613-77af-4620-a42a-0c0866077d1e  1.543367e+09     1   28     11   \n",
      "3  c2d88af2-d278-4bfd-a8d0-29ca77cc5512  1.543554e+09     4   30     11   \n",
      "4  e0126e1f-8ca9-4f2e-82b3-50505a09db9a  1.543463e+09     3   29     11   \n",
      "\n",
      "              datetime          timezone            source    destination  \\\n",
      "0  2018-12-16 09:30:07  America/New_York  Haymarket Square  North Station   \n",
      "1  2018-11-27 02:00:23  America/New_York  Haymarket Square  North Station   \n",
      "2  2018-11-28 01:00:22  America/New_York  Haymarket Square  North Station   \n",
      "3  2018-11-30 04:53:02  America/New_York  Haymarket Square  North Station   \n",
      "4  2018-11-29 03:49:20  America/New_York  Haymarket Square  North Station   \n",
      "\n",
      "  cab_type  ... precipIntensityMax uvIndexTime  temperatureMin  \\\n",
      "0     Lyft  ...             0.1276  1544979600           39.89   \n",
      "1     Lyft  ...             0.1300  1543251600           40.49   \n",
      "2     Lyft  ...             0.1064  1543338000           35.36   \n",
      "3     Lyft  ...             0.0000  1543507200           34.67   \n",
      "4     Lyft  ...             0.0001  1543420800           33.10   \n",
      "\n",
      "   temperatureMinTime  temperatureMax  temperatureMaxTime  \\\n",
      "0          1545012000           43.68          1544968800   \n",
      "1          1543233600           47.30          1543251600   \n",
      "2          1543377600           47.55          1543320000   \n",
      "3          1543550400           45.03          1543510800   \n",
      "4          1543402800           42.18          1543420800   \n",
      "\n",
      "   apparentTemperatureMin  apparentTemperatureMinTime  apparentTemperatureMax  \\\n",
      "0                   33.73                  1545012000                   38.07   \n",
      "1                   36.20                  1543291200                   43.92   \n",
      "2                   31.04                  1543377600                   44.12   \n",
      "3                   30.30                  1543550400                   38.53   \n",
      "4                   29.11                  1543392000                   35.75   \n",
      "\n",
      "  apparentTemperatureMaxTime  \n",
      "0                 1544958000  \n",
      "1                 1543251600  \n",
      "2                 1543320000  \n",
      "3                 1543510800  \n",
      "4                 1543420800  \n",
      "\n",
      "[5 rows x 57 columns]\n"
     ]
    }
   ],
   "source": [
    "# Display the first few rows of the DataFrame\n",
    "print(df.head())\n"
   ]
  },
  {
   "cell_type": "code",
   "execution_count": 4,
   "id": "9f631220",
   "metadata": {},
   "outputs": [],
   "source": [
    "# Unsupervised Learning - High Booking Areas (using Elbow Method)\n",
    "features_cluster = df[['latitude', 'longitude']]\n",
    "distortions = []\n",
    "num_clusters = range(1, 11)  # try different numbers of clusters"
   ]
  },
  {
   "cell_type": "code",
   "execution_count": 5,
   "id": "c68752f3",
   "metadata": {},
   "outputs": [],
   "source": [
    "for k in num_clusters:\n",
    "    kmeans = KMeans(n_clusters=k, random_state=42)\n",
    "    kmeans.fit(features_cluster)\n",
    "    distortions.append(kmeans.inertia_)"
   ]
  },
  {
   "cell_type": "code",
   "execution_count": 6,
   "id": "10d161f0",
   "metadata": {},
   "outputs": [
    {
     "data": {
      "image/png": "[encoded data removed]",
      "text/plain": [
       "<Figure size 432x288 with 1 Axes>"
      ]
     },
     "metadata": {
      "needs_background": "light"
     },
     "output_type": "display_data"
    }
   ],
   "source": [
    "# Plotting the elbow curve\n",
    "plt.plot(num_clusters, distortions, marker='o')\n",
    "plt.xlabel('Number of Clusters')\n",
    "plt.ylabel('Distortion')\n",
    "plt.title('Elbow Method')\n",
    "plt.show()"
   ]
  },
  {
   "cell_type": "code",
   "execution_count": 7,
   "id": "bbc4f259",
   "metadata": {},
   "outputs": [
    {
     "data": {
      "text/plain": [
       "KMeans(n_clusters=3, random_state=42)"
      ]
     },
     "execution_count": 7,
     "metadata": {},
     "output_type": "execute_result"
    }
   ],
   "source": [
    "# Apply K-means clustering with the optimal number of clusters\n",
    "optimal_num_clusters = 3  # replace with the optimal number of clusters\n",
    "kmeans = KMeans(n_clusters=optimal_num_clusters, random_state=42)\n",
    "kmeans.fit(features_cluster)\n"
   ]
  },
  {
   "cell_type": "code",
   "execution_count": 8,
   "id": "27b0e270",
   "metadata": {},
   "outputs": [],
   "source": [
    "# Assign cluster labels to the DataFrame\n",
    "df['cluster_label'] = kmeans.labels_"
   ]
  },
  {
   "cell_type": "code",
   "execution_count": 9,
   "id": "f1fd7af6",
   "metadata": {},
   "outputs": [
    {
     "name": "stdout",
     "output_type": "stream",
     "text": [
      "                                     id     timestamp  hour  day  month  \\\n",
      "0  424553bb-7174-41ea-aeb4-fe06d4f4b9d7  1.544953e+09     9   16     12   \n",
      "1  4bd23055-6827-41c6-b23b-3c491f24e74d  1.543284e+09     2   27     11   \n",
      "2  981a3613-77af-4620-a42a-0c0866077d1e  1.543367e+09     1   28     11   \n",
      "3  c2d88af2-d278-4bfd-a8d0-29ca77cc5512  1.543554e+09     4   30     11   \n",
      "4  e0126e1f-8ca9-4f2e-82b3-50505a09db9a  1.543463e+09     3   29     11   \n",
      "\n",
      "              datetime          timezone            source    destination  \\\n",
      "0  2018-12-16 09:30:07  America/New_York  Haymarket Square  North Station   \n",
      "1  2018-11-27 02:00:23  America/New_York  Haymarket Square  North Station   \n",
      "2  2018-11-28 01:00:22  America/New_York  Haymarket Square  North Station   \n",
      "3  2018-11-30 04:53:02  America/New_York  Haymarket Square  North Station   \n",
      "4  2018-11-29 03:49:20  America/New_York  Haymarket Square  North Station   \n",
      "\n",
      "  cab_type  ... uvIndexTime temperatureMin  temperatureMinTime  \\\n",
      "0     Lyft  ...  1544979600          39.89          1545012000   \n",
      "1     Lyft  ...  1543251600          40.49          1543233600   \n",
      "2     Lyft  ...  1543338000          35.36          1543377600   \n",
      "3     Lyft  ...  1543507200          34.67          1543550400   \n",
      "4     Lyft  ...  1543420800          33.10          1543402800   \n",
      "\n",
      "   temperatureMax  temperatureMaxTime  apparentTemperatureMin  \\\n",
      "0           43.68          1544968800                   33.73   \n",
      "1           47.30          1543251600                   36.20   \n",
      "2           47.55          1543320000                   31.04   \n",
      "3           45.03          1543510800                   30.30   \n",
      "4           42.18          1543420800                   29.11   \n",
      "\n",
      "   apparentTemperatureMinTime  apparentTemperatureMax  \\\n",
      "0                  1545012000                   38.07   \n",
      "1                  1543291200                   43.92   \n",
      "2                  1543377600                   44.12   \n",
      "3                  1543550400                   38.53   \n",
      "4                  1543392000                   35.75   \n",
      "\n",
      "   apparentTemperatureMaxTime cluster_label  \n",
      "0                  1544958000             1  \n",
      "1                  1543251600             1  \n",
      "2                  1543320000             1  \n",
      "3                  1543510800             1  \n",
      "4                  1543420800             1  \n",
      "\n",
      "[5 rows x 58 columns]\n"
     ]
    }
   ],
   "source": [
    "# Display the updated DataFrame with cluster labels\n",
    "print(df.head())"
   ]
  },
  {
   "cell_type": "code",
   "execution_count": 10,
   "id": "c43f04c1",
   "metadata": {},
   "outputs": [
    {
     "data": {
      "text/plain": [
       "Index(['id', 'timestamp', 'hour', 'day', 'month', 'datetime', 'timezone',\n",
       "       'source', 'destination', 'cab_type', 'product_id', 'name', 'price',\n",
       "       'distance', 'surge_multiplier', 'latitude', 'longitude', 'temperature',\n",
       "       'apparentTemperature', 'short_summary', 'long_summary',\n",
       "       'precipIntensity', 'precipProbability', 'humidity', 'windSpeed',\n",
       "       'windGust', 'windGustTime', 'visibility', 'temperatureHigh',\n",
       "       'temperatureHighTime', 'temperatureLow', 'temperatureLowTime',\n",
       "       'apparentTemperatureHigh', 'apparentTemperatureHighTime',\n",
       "       'apparentTemperatureLow', 'apparentTemperatureLowTime', 'icon',\n",
       "       'dewPoint', 'pressure', 'windBearing', 'cloudCover', 'uvIndex',\n",
       "       'visibility.1', 'ozone', 'sunriseTime', 'sunsetTime', 'moonPhase',\n",
       "       'precipIntensityMax', 'uvIndexTime', 'temperatureMin',\n",
       "       'temperatureMinTime', 'temperatureMax', 'temperatureMaxTime',\n",
       "       'apparentTemperatureMin', 'apparentTemperatureMinTime',\n",
       "       'apparentTemperatureMax', 'apparentTemperatureMaxTime',\n",
       "       'cluster_label'],\n",
       "      dtype='object')"
      ]
     },
     "execution_count": 10,
     "metadata": {},
     "output_type": "execute_result"
    }
   ],
   "source": [
    "df.columns"
   ]
  },
  {
   "cell_type": "code",
   "execution_count": 11,
   "id": "c0e141d0",
   "metadata": {},
   "outputs": [
    {
     "name": "stdout",
     "output_type": "stream",
     "text": [
      "<class 'pandas.core.frame.DataFrame'>\n",
      "Int64Index: 637976 entries, 0 to 693070\n",
      "Data columns (total 58 columns):\n",
      " #   Column                       Non-Null Count   Dtype  \n",
      "---  ------                       --------------   -----  \n",
      " 0   id                           637976 non-null  object \n",
      " 1   timestamp                    637976 non-null  float64\n",
      " 2   hour                         637976 non-null  int64  \n",
      " 3   day                          637976 non-null  int64  \n",
      " 4   month                        637976 non-null  int64  \n",
      " 5   datetime                     637976 non-null  object \n",
      " 6   timezone                     637976 non-null  object \n",
      " 7   source                       637976 non-null  object \n",
      " 8   destination                  637976 non-null  object \n",
      " 9   cab_type                     637976 non-null  object \n",
      " 10  product_id                   637976 non-null  object \n",
      " 11  name                         637976 non-null  object \n",
      " 12  price                        637976 non-null  float64\n",
      " 13  distance                     637976 non-null  float64\n",
      " 14  surge_multiplier             637976 non-null  float64\n",
      " 15  latitude                     637976 non-null  float64\n",
      " 16  longitude                    637976 non-null  float64\n",
      " 17  temperature                  637976 non-null  float64\n",
      " 18  apparentTemperature          637976 non-null  float64\n",
      " 19  short_summary                637976 non-null  object \n",
      " 20  long_summary                 637976 non-null  object \n",
      " 21  precipIntensity              637976 non-null  float64\n",
      " 22  precipProbability            637976 non-null  float64\n",
      " 23  humidity                     637976 non-null  float64\n",
      " 24  windSpeed                    637976 non-null  float64\n",
      " 25  windGust                     637976 non-null  float64\n",
      " 26  windGustTime                 637976 non-null  int64  \n",
      " 27  visibility                   637976 non-null  float64\n",
      " 28  temperatureHigh              637976 non-null  float64\n",
      " 29  temperatureHighTime          637976 non-null  int64  \n",
      " 30  temperatureLow               637976 non-null  float64\n",
      " 31  temperatureLowTime           637976 non-null  int64  \n",
      " 32  apparentTemperatureHigh      637976 non-null  float64\n",
      " 33  apparentTemperatureHighTime  637976 non-null  int64  \n",
      " 34  apparentTemperatureLow       637976 non-null  float64\n",
      " 35  apparentTemperatureLowTime   637976 non-null  int64  \n",
      " 36  icon                         637976 non-null  object \n",
      " 37  dewPoint                     637976 non-null  float64\n",
      " 38  pressure                     637976 non-null  float64\n",
      " 39  windBearing                  637976 non-null  int64  \n",
      " 40  cloudCover                   637976 non-null  float64\n",
      " 41  uvIndex                      637976 non-null  int64  \n",
      " 42  visibility.1                 637976 non-null  float64\n",
      " 43  ozone                        637976 non-null  float64\n",
      " 44  sunriseTime                  637976 non-null  int64  \n",
      " 45  sunsetTime                   637976 non-null  int64  \n",
      " 46  moonPhase                    637976 non-null  float64\n",
      " 47  precipIntensityMax           637976 non-null  float64\n",
      " 48  uvIndexTime                  637976 non-null  int64  \n",
      " 49  temperatureMin               637976 non-null  float64\n",
      " 50  temperatureMinTime           637976 non-null  int64  \n",
      " 51  temperatureMax               637976 non-null  float64\n",
      " 52  temperatureMaxTime           637976 non-null  int64  \n",
      " 53  apparentTemperatureMin       637976 non-null  float64\n",
      " 54  apparentTemperatureMinTime   637976 non-null  int64  \n",
      " 55  apparentTemperatureMax       637976 non-null  float64\n",
      " 56  apparentTemperatureMaxTime   637976 non-null  int64  \n",
      " 57  cluster_label                637976 non-null  int32  \n",
      "dtypes: float64(29), int32(1), int64(17), object(11)\n",
      "memory usage: 284.7+ MB\n"
     ]
    }
   ],
   "source": [
    "df.dropna(inplace=True)\n",
    "df.info()"
   ]
  },
  {
   "cell_type": "code",
   "execution_count": 12,
   "id": "cf088788",
   "metadata": {},
   "outputs": [],
   "source": [
    "from sklearn.preprocessing import LabelEncoder\n",
    "le = LabelEncoder()\n",
    "df['cab_type'] = le.fit_transform(df['cab_type'])\n"
   ]
  },
  {
   "cell_type": "code",
   "execution_count": 13,
   "id": "b8e28738",
   "metadata": {},
   "outputs": [],
   "source": [
    "# Supervised Learning - Price Prediction\n",
    "# Select relevant features for price prediction\n",
    "features_regression = df[['latitude', 'longitude', 'hour', 'day', 'precipIntensity', 'distance',\n",
    "                         'precipProbability', 'surge_multiplier', 'cab_type' ]]  # include other relevant features\n",
    "target = df['price']\n"
   ]
  },
  {
   "cell_type": "code",
   "execution_count": 14,
   "id": "f043aa26",
   "metadata": {},
   "outputs": [],
   "source": [
    "# Split the data into training and testing sets\n",
    "X_train, X_test, y_train, y_test = train_test_split(features_regression, target, test_size=0.2, random_state=42)"
   ]
  },
  {
   "cell_type": "code",
   "execution_count": 15,
   "id": "ffc5a18a",
   "metadata": {},
   "outputs": [
    {
     "data": {
      "text/plain": [
       "RandomForestRegressor()"
      ]
     },
     "execution_count": 15,
     "metadata": {},
     "output_type": "execute_result"
    }
   ],
   "source": [
    "# Initialize and fit the Random Forest model\n",
    "model = RandomForestRegressor()\n",
    "model.fit(X_train, y_train)\n"
   ]
  },
  {
   "cell_type": "code",
   "execution_count": 16,
   "id": "78cabf95",
   "metadata": {},
   "outputs": [],
   "source": [
    "# Predict prices for the test set\n",
    "y_pred = model.predict(X_test)"
   ]
  },
  {
   "cell_type": "code",
   "execution_count": 17,
   "id": "b45a4787",
   "metadata": {},
   "outputs": [
    {
     "name": "stdout",
     "output_type": "stream",
     "text": [
      "Mean Squared Error: 90.45815566637208\n"
     ]
    }
   ],
   "source": [
    "# Calculate the mean squared error\n",
    "mse = mean_squared_error(y_test, y_pred)\n",
    "print(\"Mean Squared Error:\", mse)"
   ]
  },
  {
   "cell_type": "code",
   "execution_count": null,
   "id": "b932af1c",
   "metadata": {},
   "outputs": [],
   "source": []
  }
 ],
 "metadata": {
  "kernelspec": {
   "display_name": "Python 3 (ipykernel)",
   "language": "python",
   "name": "python3"
  },
  "language_info": {
   "codemirror_mode": {
    "name": "ipython",
    "version": 3
   },
   "file_extension": ".py",
   "mimetype": "text/x-python",
   "name": "python",
   "nbconvert_exporter": "python",
   "pygments_lexer": "ipython3",
   "version": "3.9.12"
  }
 },
 "nbformat": 4,
 "nbformat_minor": 5
}
