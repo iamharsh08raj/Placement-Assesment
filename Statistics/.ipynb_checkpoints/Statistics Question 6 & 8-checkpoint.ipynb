{
 "cells": [
  {
   "cell_type": "code",
   "execution_count": 18,
   "id": "cef5b4e4",
   "metadata": {},
   "outputs": [],
   "source": [
    "import pandas as pd\n",
    "from scipy.stats import f_oneway"
   ]
  },
  {
   "cell_type": "code",
   "execution_count": 19,
   "id": "fb927d6f",
   "metadata": {},
   "outputs": [
    {
     "data": {
      "text/plain": [
       "Index(['Patient ID', ' Blood Pressure Before (mmHg)',\n",
       "       ' Blood Pressure After (mmHg)'],\n",
       "      dtype='object')"
      ]
     },
     "execution_count": 19,
     "metadata": {},
     "output_type": "execute_result"
    }
   ],
   "source": [
    "df = pd.read_csv('data.csv')\n",
    "df.columns"
   ]
  },
  {
   "cell_type": "code",
   "execution_count": 20,
   "id": "ade38732",
   "metadata": {},
   "outputs": [],
   "source": [
    "x1 = df[' Blood Pressure After (mmHg)']\n",
    "x0 = df[' Blood Pressure Before (mmHg)']"
   ]
  },
  {
   "cell_type": "code",
   "execution_count": 21,
   "id": "05940594",
   "metadata": {},
   "outputs": [
    {
     "data": {
      "text/plain": [
       "0    -10\n",
       "1     -7\n",
       "2     -2\n",
       "3     -8\n",
       "4     -8\n",
       "      ..\n",
       "95    -7\n",
       "96    -6\n",
       "97    -4\n",
       "98    -4\n",
       "99    -5\n",
       "Name: Difference, Length: 100, dtype: int64"
      ]
     },
     "execution_count": 21,
     "metadata": {},
     "output_type": "execute_result"
    }
   ],
   "source": [
    "df['Difference'] = x1-x0\n",
    "df['Difference']"
   ]
  },
  {
   "cell_type": "code",
   "execution_count": 22,
   "id": "621b758e",
   "metadata": {},
   "outputs": [],
   "source": [
    "f_statistic, p_value = f_oneway(x1, x0)"
   ]
  },
  {
   "cell_type": "code",
   "execution_count": 23,
   "id": "40511a99",
   "metadata": {},
   "outputs": [
    {
     "name": "stdout",
     "output_type": "stream",
     "text": [
      "F-statistic: 33.85555270599285\n",
      "p-value: 2.3565868442707578e-08\n"
     ]
    }
   ],
   "source": [
    "print('F-statistic:', f_statistic)\n",
    "print('p-value:', p_value)"
   ]
  },
  {
   "cell_type": "markdown",
   "id": "8c2bd1ba",
   "metadata": {},
   "source": [
    "# The null hypothesis (H0) for ANOVA is that there are no significant differences between the means of the groups. If the p-value obtained from the ANOVA test is below a chosen significance level 5%"
   ]
  },
  {
   "cell_type": "markdown",
   "id": "0a395052",
   "metadata": {},
   "source": [
    "# The p-value is extremely small (2.3565868442707578e-08), which is well below the significance level of 0.05. This indicates strong evidence to reject the null hypothesis and suggests that the change in blood pressure is evident"
   ]
  },
  {
   "cell_type": "code",
   "execution_count": 24,
   "id": "f122b7f1",
   "metadata": {},
   "outputs": [],
   "source": [
    "from scipy.stats import wilcoxon"
   ]
  },
  {
   "cell_type": "code",
   "execution_count": 25,
   "id": "8f9aceb5",
   "metadata": {},
   "outputs": [],
   "source": [
    "df1 = pd.read_csv('Wilcoxon.csv')"
   ]
  },
  {
   "cell_type": "code",
   "execution_count": 26,
   "id": "85952f89",
   "metadata": {},
   "outputs": [],
   "source": [
    "d = df1['Difference']"
   ]
  },
  {
   "cell_type": "code",
   "execution_count": 27,
   "id": "dee764b6",
   "metadata": {},
   "outputs": [],
   "source": [
    "res = wilcoxon(d)"
   ]
  },
  {
   "cell_type": "code",
   "execution_count": 28,
   "id": "cfb653f8",
   "metadata": {},
   "outputs": [
    {
     "data": {
      "text/plain": [
       "(0.0, 0.001953125)"
      ]
     },
     "execution_count": 28,
     "metadata": {},
     "output_type": "execute_result"
    }
   ],
   "source": [
    "res.statistic, res.pvalue"
   ]
  },
  {
   "cell_type": "markdown",
   "id": "59852337",
   "metadata": {},
   "source": [
    "# This means that there is a statistically significant difference between the paired observations being tested."
   ]
  },
  {
   "cell_type": "markdown",
   "id": "4372ca64",
   "metadata": {},
   "source": [
    "# Which means that there is no strong evidence that the therapy does'nt works"
   ]
  },
  {
   "cell_type": "code",
   "execution_count": null,
   "id": "70cb772b",
   "metadata": {},
   "outputs": [],
   "source": []
  }
 ],
 "metadata": {
  "kernelspec": {
   "display_name": "Python 3 (ipykernel)",
   "language": "python",
   "name": "python3"
  },
  "language_info": {
   "codemirror_mode": {
    "name": "ipython",
    "version": 3
   },
   "file_extension": ".py",
   "mimetype": "text/x-python",
   "name": "python",
   "nbconvert_exporter": "python",
   "pygments_lexer": "ipython3",
   "version": "3.9.12"
  }
 },
 "nbformat": 4,
 "nbformat_minor": 5
}
