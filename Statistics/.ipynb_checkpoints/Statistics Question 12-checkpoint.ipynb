{
 "cells": [
  {
   "cell_type": "code",
   "execution_count": 1,
   "id": "a39f2307",
   "metadata": {},
   "outputs": [],
   "source": [
    "import scipy.stats as stats"
   ]
  },
  {
   "cell_type": "code",
   "execution_count": 2,
   "id": "104e0c9a",
   "metadata": {},
   "outputs": [],
   "source": [
    "# Group A data\n",
    "mean_A = 2.5\n",
    "std_A = 0.8\n",
    "n_A = 30"
   ]
  },
  {
   "cell_type": "code",
   "execution_count": 3,
   "id": "852b2a8a",
   "metadata": {},
   "outputs": [],
   "source": [
    "# Group B data\n",
    "mean_B = 2.2\n",
    "std_B = 0.6\n",
    "n_B = 30"
   ]
  },
  {
   "cell_type": "code",
   "execution_count": 4,
   "id": "163906f2",
   "metadata": {},
   "outputs": [],
   "source": [
    "# Calculate the t-statistic and p-value\n",
    "t_statistic, p_value = stats.ttest_ind_from_stats(mean_A, std_A, n_A, mean_B, std_B, n_B)"
   ]
  },
  {
   "cell_type": "code",
   "execution_count": 5,
   "id": "99e39ab3",
   "metadata": {},
   "outputs": [
    {
     "name": "stdout",
     "output_type": "stream",
     "text": [
      "t-statistic: 1.6431676725154976\n",
      "p-value: 0.10575916705583671\n"
     ]
    }
   ],
   "source": [
    "print(\"t-statistic:\", t_statistic)\n",
    "print(\"p-value:\", p_value)"
   ]
  },
  {
   "cell_type": "code",
   "execution_count": 6,
   "id": "c844d295",
   "metadata": {},
   "outputs": [
    {
     "name": "stdout",
     "output_type": "stream",
     "text": [
      "Null hypothesis not rejected. There is no significant difference in the mean improvement scores between Group A and Group B.\n"
     ]
    }
   ],
   "source": [
    "alpha = 0.05\n",
    "\n",
    "if p_value < alpha:\n",
    "    print(\"Null hypothesis rejected. There is a significant difference in the mean improvement scores between Group A and Group B.\")\n",
    "else:\n",
    "    print(\"Null hypothesis not rejected. There is no significant difference in the mean improvement scores between Group A and Group B.\")"
   ]
  },
  {
   "cell_type": "markdown",
   "id": "7984be6e",
   "metadata": {},
   "source": [
    "# Since the p-value (0.106) is greater than the significance level (0.05), we fail to reject the null hypothesis. This means that there is no significant difference in the mean improvement scores between Group A and Group B."
   ]
  },
  {
   "cell_type": "code",
   "execution_count": null,
   "id": "6ffac97b",
   "metadata": {},
   "outputs": [],
   "source": []
  }
 ],
 "metadata": {
  "kernelspec": {
   "display_name": "Python 3 (ipykernel)",
   "language": "python",
   "name": "python3"
  },
  "language_info": {
   "codemirror_mode": {
    "name": "ipython",
    "version": 3
   },
   "file_extension": ".py",
   "mimetype": "text/x-python",
   "name": "python",
   "nbconvert_exporter": "python",
   "pygments_lexer": "ipython3",
   "version": "3.9.12"
  }
 },
 "nbformat": 4,
 "nbformat_minor": 5
}
