{
 "cells": [
  {
   "cell_type": "code",
   "execution_count": 1,
   "id": "5084b057",
   "metadata": {},
   "outputs": [],
   "source": [
    "import tensorflow as tf\n",
    "from tensorflow.keras import layers"
   ]
  },
  {
   "cell_type": "code",
   "execution_count": 2,
   "id": "f26f513f",
   "metadata": {},
   "outputs": [
    {
     "name": "stdout",
     "output_type": "stream",
     "text": [
      "Downloading data from https://storage.googleapis.com/tensorflow/tf-keras-datasets/mnist.npz\n",
      "11490434/11490434 [==============================] - 3s 0us/step\n"
     ]
    }
   ],
   "source": [
    "# Load and preprocess the MNIST dataset\n",
    "(x_train, y_train), (x_test, y_test) = tf.keras.datasets.mnist.load_data()\n",
    "x_train = x_train.reshape(-1, 28, 28, 1).astype(\"float32\") / 255.0\n",
    "x_test = x_test.reshape(-1, 28, 28, 1).astype(\"float32\") / 255.0\n",
    "input_shape = (28, 28, 1)\n",
    "num_classes = 10"
   ]
  },
  {
   "cell_type": "code",
   "execution_count": 3,
   "id": "54100abe",
   "metadata": {},
   "outputs": [],
   "source": [
    "# Define a function to create a CNN model with a specific architecture\n",
    "def create_model(architecture):\n",
    "    model = tf.keras.Sequential()\n",
    "\n",
    "    if architecture == 1:\n",
    "        # Architecture 1: Simple CNN\n",
    "        model.add(layers.Conv2D(32, kernel_size=(3, 3), activation=\"relu\", input_shape=input_shape))\n",
    "        model.add(layers.MaxPooling2D(pool_size=(2, 2)))\n",
    "        model.add(layers.Flatten())\n",
    "        model.add(layers.Dense(64, activation=\"relu\"))\n",
    "        model.add(layers.Dense(num_classes, activation=\"softmax\"))\n",
    "\n",
    "    elif architecture == 2:\n",
    "        # Architecture 2: Deep CNN\n",
    "        model.add(layers.Conv2D(32, kernel_size=(3, 3), activation=\"relu\", input_shape=input_shape))\n",
    "        model.add(layers.MaxPooling2D(pool_size=(2, 2)))\n",
    "        model.add(layers.Conv2D(64, kernel_size=(3, 3), activation=\"relu\"))\n",
    "        model.add(layers.MaxPooling2D(pool_size=(2, 2)))\n",
    "        model.add(layers.Flatten())\n",
    "        model.add(layers.Dense(128, activation=\"relu\"))\n",
    "        model.add(layers.Dense(num_classes, activation=\"softmax\"))\n",
    "\n",
    "    elif architecture == 3:\n",
    "        # Architecture 3: Custom CNN\n",
    "        model.add(layers.Conv2D(16, kernel_size=(3, 3), activation=\"relu\", input_shape=input_shape))\n",
    "        model.add(layers.Conv2D(32, kernel_size=(3, 3), activation=\"relu\"))\n",
    "        model.add(layers.MaxPooling2D(pool_size=(2, 2)))\n",
    "        model.add(layers.Dropout(0.25))\n",
    "        model.add(layers.Flatten())\n",
    "        model.add(layers.Dense(64, activation=\"relu\"))\n",
    "        model.add(layers.Dropout(0.5))\n",
    "        model.add(layers.Dense(num_classes, activation=\"softmax\"))\n",
    "\n",
    "    return model"
   ]
  },
  {
   "cell_type": "code",
   "execution_count": 4,
   "id": "e6e080de",
   "metadata": {},
   "outputs": [],
   "source": [
    "# Create the three CNN models\n",
    "model1 = create_model(1)\n",
    "model2 = create_model(2)\n",
    "model3 = create_model(3)"
   ]
  },
  {
   "cell_type": "code",
   "execution_count": 5,
   "id": "7f5516b6",
   "metadata": {},
   "outputs": [],
   "source": [
    "# Compile and train the models\n",
    "models = [model1, model2, model3]\n",
    "model_names = [\"Simple CNN\", \"Deep CNN\", \"Custom CNN\"]"
   ]
  },
  {
   "cell_type": "code",
   "execution_count": 6,
   "id": "e097d901",
   "metadata": {},
   "outputs": [
    {
     "name": "stdout",
     "output_type": "stream",
     "text": [
      "Epoch 1/10\n",
      "469/469 [==============================] - 17s 35ms/step - loss: 0.2499 - accuracy: 0.9299\n",
      "Epoch 2/10\n",
      "469/469 [==============================] - 17s 35ms/step - loss: 0.0732 - accuracy: 0.9785\n",
      "Epoch 3/10\n",
      "469/469 [==============================] - 16s 33ms/step - loss: 0.0495 - accuracy: 0.9852\n",
      "Epoch 4/10\n",
      "469/469 [==============================] - 16s 34ms/step - loss: 0.0382 - accuracy: 0.9886\n",
      "Epoch 5/10\n",
      "469/469 [==============================] - 16s 34ms/step - loss: 0.0314 - accuracy: 0.9906\n",
      "Epoch 6/10\n",
      "469/469 [==============================] - 16s 34ms/step - loss: 0.0241 - accuracy: 0.9923\n",
      "Epoch 7/10\n",
      "469/469 [==============================] - 16s 34ms/step - loss: 0.0202 - accuracy: 0.9937\n",
      "Epoch 8/10\n",
      "469/469 [==============================] - 16s 34ms/step - loss: 0.0154 - accuracy: 0.9955\n",
      "Epoch 9/10\n",
      "469/469 [==============================] - 16s 34ms/step - loss: 0.0133 - accuracy: 0.9962\n",
      "Epoch 10/10\n",
      "469/469 [==============================] - 16s 34ms/step - loss: 0.0099 - accuracy: 0.9971\n",
      "Epoch 1/10\n",
      "469/469 [==============================] - 29s 62ms/step - loss: 0.2085 - accuracy: 0.9369\n",
      "Epoch 2/10\n",
      "469/469 [==============================] - 29s 61ms/step - loss: 0.0566 - accuracy: 0.9831\n",
      "Epoch 3/10\n",
      "469/469 [==============================] - 29s 63ms/step - loss: 0.0410 - accuracy: 0.9874\n",
      "Epoch 4/10\n",
      "469/469 [==============================] - 32s 68ms/step - loss: 0.0312 - accuracy: 0.9900\n",
      "Epoch 5/10\n",
      "469/469 [==============================] - 29s 62ms/step - loss: 0.0245 - accuracy: 0.9922\n",
      "Epoch 6/10\n",
      "469/469 [==============================] - 29s 62ms/step - loss: 0.0188 - accuracy: 0.9942\n",
      "Epoch 7/10\n",
      "469/469 [==============================] - 29s 62ms/step - loss: 0.0154 - accuracy: 0.9952\n",
      "Epoch 8/10\n",
      "469/469 [==============================] - 29s 62ms/step - loss: 0.0123 - accuracy: 0.9961\n",
      "Epoch 9/10\n",
      "469/469 [==============================] - 29s 62ms/step - loss: 0.0095 - accuracy: 0.9969\n",
      "Epoch 10/10\n",
      "469/469 [==============================] - 29s 62ms/step - loss: 0.0084 - accuracy: 0.9970\n",
      "Epoch 1/10\n",
      "469/469 [==============================] - 39s 83ms/step - loss: 0.3788 - accuracy: 0.8829\n",
      "Epoch 2/10\n",
      "469/469 [==============================] - 38s 82ms/step - loss: 0.1461 - accuracy: 0.9569\n",
      "Epoch 3/10\n",
      "469/469 [==============================] - 38s 82ms/step - loss: 0.1151 - accuracy: 0.9655\n",
      "Epoch 4/10\n",
      "469/469 [==============================] - 39s 82ms/step - loss: 0.0961 - accuracy: 0.9714\n",
      "Epoch 5/10\n",
      "469/469 [==============================] - 39s 83ms/step - loss: 0.0847 - accuracy: 0.9747\n",
      "Epoch 6/10\n",
      "469/469 [==============================] - 38s 82ms/step - loss: 0.0765 - accuracy: 0.9768\n",
      "Epoch 7/10\n",
      "469/469 [==============================] - 38s 82ms/step - loss: 0.0699 - accuracy: 0.9780\n",
      "Epoch 8/10\n",
      "469/469 [==============================] - 39s 83ms/step - loss: 0.0670 - accuracy: 0.9799\n",
      "Epoch 9/10\n",
      "469/469 [==============================] - 38s 82ms/step - loss: 0.0603 - accuracy: 0.9813\n",
      "Epoch 10/10\n",
      "469/469 [==============================] - 39s 84ms/step - loss: 0.0565 - accuracy: 0.9818\n"
     ]
    }
   ],
   "source": [
    "results = []\n",
    "for model, name in zip(models, model_names):\n",
    "    model.compile(loss=\"sparse_categorical_crossentropy\", optimizer=\"adam\", metrics=[\"accuracy\"])\n",
    "    model.fit(x_train, y_train, batch_size=128, epochs=10, verbose=1)\n",
    "    _, accuracy = model.evaluate(x_test, y_test, verbose=0)\n",
    "    results.append((name, accuracy))\n"
   ]
  },
  {
   "cell_type": "code",
   "execution_count": 7,
   "id": "53518bf9",
   "metadata": {},
   "outputs": [
    {
     "name": "stdout",
     "output_type": "stream",
     "text": [
      "Model\t\t\tAccuracy\n",
      "-----------------------------\n",
      "Simple CNN\t\t98.66%\n",
      "Deep CNN\t\t98.97%\n",
      "Custom CNN\t\t98.94%\n"
     ]
    }
   ],
   "source": [
    "# Compare the results\n",
    "print(\"Model\\t\\t\\tAccuracy\")\n",
    "print(\"-----------------------------\")\n",
    "for name, accuracy in results:\n",
    "    print(f\"{name}\\t\\t{accuracy * 100:.2f}%\")"
   ]
  },
  {
   "cell_type": "code",
   "execution_count": null,
   "id": "c0c227c9",
   "metadata": {},
   "outputs": [],
   "source": []
  }
 ],
 "metadata": {
  "kernelspec": {
   "display_name": "Python 3 (ipykernel)",
   "language": "python",
   "name": "python3"
  },
  "language_info": {
   "codemirror_mode": {
    "name": "ipython",
    "version": 3
   },
   "file_extension": ".py",
   "mimetype": "text/x-python",
   "name": "python",
   "nbconvert_exporter": "python",
   "pygments_lexer": "ipython3",
   "version": "3.9.12"
  }
 },
 "nbformat": 4,
 "nbformat_minor": 5
}
