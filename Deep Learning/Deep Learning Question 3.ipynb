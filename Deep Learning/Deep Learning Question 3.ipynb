{
 "cells": [
  {
   "cell_type": "code",
   "execution_count": 10,
   "id": "b79becb9",
   "metadata": {},
   "outputs": [],
   "source": [
    "import tensorflow as tf\n",
    "from tensorflow.keras import layers, models\n",
    "from tensorflow.keras.datasets import mnist"
   ]
  },
  {
   "cell_type": "code",
   "execution_count": 11,
   "id": "3a92f6eb",
   "metadata": {},
   "outputs": [],
   "source": [
    "# Load and preprocess the MNIST dataset\n",
    "(train_images, train_labels), (test_images, test_labels) = mnist.load_data()\n",
    "train_images = train_images / 255.0\n",
    "test_images = test_images / 255.0\n"
   ]
  },
  {
   "cell_type": "code",
   "execution_count": 12,
   "id": "30a90cee",
   "metadata": {},
   "outputs": [],
   "source": [
    "# Add a channel dimension to the images\n",
    "train_images = train_images[..., tf.newaxis]\n",
    "test_images = test_images[..., tf.newaxis]"
   ]
  },
  {
   "cell_type": "code",
   "execution_count": 13,
   "id": "bdb31afd",
   "metadata": {},
   "outputs": [],
   "source": [
    "# Define the adjusted CNN model\n",
    "model = models.Sequential()\n",
    "model.add(layers.Conv2D(32, (3, 3), activation='relu', input_shape=(28, 28, 1)))\n",
    "model.add(layers.Conv2D(64, (3, 3), activation='relu'))\n",
    "model.add(layers.MaxPooling2D((2, 2)))\n",
    "model.add(layers.Conv2D(64, (3, 3), activation='relu'))\n",
    "model.add(layers.Flatten())\n",
    "model.add(layers.Dense(64, activation='relu'))\n",
    "model.add(layers.Dense(10, activation='softmax'))"
   ]
  },
  {
   "cell_type": "code",
   "execution_count": 14,
   "id": "a45efafc",
   "metadata": {},
   "outputs": [],
   "source": [
    "# Compile the model\n",
    "model.compile(optimizer='adam',\n",
    "              loss='sparse_categorical_crossentropy',\n",
    "              metrics=['accuracy'])"
   ]
  },
  {
   "cell_type": "code",
   "execution_count": 15,
   "id": "db9bf07c",
   "metadata": {},
   "outputs": [
    {
     "name": "stdout",
     "output_type": "stream",
     "text": [
      "Epoch 1/10\n",
      "469/469 [==============================] - 99s 209ms/step - loss: 0.1503 - accuracy: 0.9549\n",
      "Epoch 2/10\n",
      "469/469 [==============================] - 97s 206ms/step - loss: 0.0409 - accuracy: 0.9873\n",
      "Epoch 3/10\n",
      "469/469 [==============================] - 97s 207ms/step - loss: 0.0280 - accuracy: 0.9912\n",
      "Epoch 4/10\n",
      "469/469 [==============================] - 96s 205ms/step - loss: 0.0186 - accuracy: 0.9938\n",
      "Epoch 5/10\n",
      "469/469 [==============================] - 97s 207ms/step - loss: 0.0151 - accuracy: 0.9951\n",
      "Epoch 6/10\n",
      "469/469 [==============================] - 103s 219ms/step - loss: 0.0117 - accuracy: 0.9961\n",
      "Epoch 7/10\n",
      "469/469 [==============================] - 105s 224ms/step - loss: 0.0088 - accuracy: 0.9970\n",
      "Epoch 8/10\n",
      "469/469 [==============================] - 102s 218ms/step - loss: 0.0087 - accuracy: 0.9972\n",
      "Epoch 9/10\n",
      "469/469 [==============================] - 102s 218ms/step - loss: 0.0072 - accuracy: 0.9975\n",
      "Epoch 10/10\n",
      "469/469 [==============================] - 109s 231ms/step - loss: 0.0060 - accuracy: 0.9980\n"
     ]
    },
    {
     "data": {
      "text/plain": [
       "<keras.callbacks.History at 0x232986b95b0>"
      ]
     },
     "execution_count": 15,
     "metadata": {},
     "output_type": "execute_result"
    }
   ],
   "source": [
    "# Train the model\n",
    "model.fit(train_images, train_labels, epochs=10, batch_size=128)"
   ]
  },
  {
   "cell_type": "code",
   "execution_count": 16,
   "id": "aa519e2e",
   "metadata": {},
   "outputs": [
    {
     "name": "stdout",
     "output_type": "stream",
     "text": [
      "313/313 [==============================] - 5s 17ms/step - loss: 0.0453 - accuracy: 0.9894\n",
      "Test Accuracy: 0.9894000291824341\n"
     ]
    }
   ],
   "source": [
    "# Evaluate the model\n",
    "_, test_accuracy = model.evaluate(test_images, test_labels)\n",
    "print(\"Test Accuracy:\", test_accuracy)"
   ]
  },
  {
   "cell_type": "code",
   "execution_count": null,
   "id": "ba028938",
   "metadata": {},
   "outputs": [],
   "source": []
  }
 ],
 "metadata": {
  "kernelspec": {
   "display_name": "Python 3 (ipykernel)",
   "language": "python",
   "name": "python3"
  },
  "language_info": {
   "codemirror_mode": {
    "name": "ipython",
    "version": 3
   },
   "file_extension": ".py",
   "mimetype": "text/x-python",
   "name": "python",
   "nbconvert_exporter": "python",
   "pygments_lexer": "ipython3",
   "version": "3.9.12"
  }
 },
 "nbformat": 4,
 "nbformat_minor": 5
}
