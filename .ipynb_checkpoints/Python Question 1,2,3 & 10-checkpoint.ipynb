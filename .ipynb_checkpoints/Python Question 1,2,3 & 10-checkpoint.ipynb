{
 "cells": [
  {
   "cell_type": "markdown",
   "id": "8e88abc6",
   "metadata": {},
   "source": [
    "# Question 1"
   ]
  },
  {
   "cell_type": "markdown",
   "id": "4036849f",
   "metadata": {},
   "source": [
    "Write a program that takes a string as input, and counts the frequency of each word in the string, there might\n",
    "be repeated characters in the string. Your task is to find the highest frequency and returns the length of the\n",
    "highest-frequency word."
   ]
  },
  {
   "cell_type": "code",
   "execution_count": 12,
   "id": "0fb4f09b",
   "metadata": {},
   "outputs": [],
   "source": [
    "def frequency(sentence):\n",
    "    word_frequency = {}\n",
    "    maximum_frequency = 0\n",
    "    maximum_frequency_word_length = 0\n",
    "    words=sentence.split()\n",
    "    \n",
    "    for word in words:\n",
    "        word_frequency[word] = word_frequency.get(word, 0)+1\n",
    "        \n",
    "        if word_frequency[word]>maximum_frequency:\n",
    "            maximum_frequency = word_frequency[word]\n",
    "            maximum_frequency_word_length = len(word)\n",
    "    return maximum_frequency_word_length"
   ]
  },
  {
   "cell_type": "code",
   "execution_count": 13,
   "id": "120c001b",
   "metadata": {},
   "outputs": [
    {
     "name": "stdout",
     "output_type": "stream",
     "text": [
      "5\n"
     ]
    }
   ],
   "source": [
    "result=frequency(\"write write write all the number from from from 1 to 100\")\n",
    "print(result)"
   ]
  },
  {
   "cell_type": "code",
   "execution_count": 19,
   "id": "b9ed23dd",
   "metadata": {},
   "outputs": [
    {
     "name": "stdout",
     "output_type": "stream",
     "text": [
      "6\n"
     ]
    }
   ],
   "source": [
    "result=frequency(\"I am Harsh Raj Mishra or H R Mishra\")\n",
    "print(result)"
   ]
  },
  {
   "cell_type": "markdown",
   "id": "02afbc0b",
   "metadata": {},
   "source": [
    "# Question 2"
   ]
  },
  {
   "cell_type": "markdown",
   "id": "44eef265",
   "metadata": {},
   "source": [
    "Consider a string to be valid if all characters of the string appear the same number of times. It is also valid if\n",
    "he can remove just one character at the index in the string, and the remaining characters will occur the same\n",
    "number of times. Given a string, determine if it is valid. If so, return YES , otherwise return NO ."
   ]
  },
  {
   "cell_type": "code",
   "execution_count": 42,
   "id": "efa98af8",
   "metadata": {},
   "outputs": [],
   "source": [
    "def isValidString(s):\n",
    "    # Count the frequencies of each character\n",
    "    char_freq = {}\n",
    "    for char in s:\n",
    "        char_freq[char] = char_freq.get(char, 0) + 1\n",
    "    \n",
    "    # Get the frequencies of the characters\n",
    "    freq_values = list(char_freq.values())\n",
    "    \n",
    "    # Check if all frequencies are the same\n",
    "    if len(set(freq_values)) == 1:\n",
    "        return \"YES\"\n",
    "    \n",
    "    # Check if removing one character can make all frequencies the same\n",
    "    for i in range(len(freq_values)):\n",
    "        freq_values[i] -= 1\n",
    "        if len(set(freq_values)) == 1:\n",
    "            return \"YES\"\n",
    "        freq_values[i] += 1\n",
    "    \n",
    "    return \"NO\"\n"
   ]
  },
  {
   "cell_type": "code",
   "execution_count": 48,
   "id": "3b67c634",
   "metadata": {},
   "outputs": [
    {
     "name": "stdout",
     "output_type": "stream",
     "text": [
      "YES\n"
     ]
    }
   ],
   "source": [
    "inp =isValidString('aabbcc')\n",
    "print(inp)"
   ]
  },
  {
   "cell_type": "code",
   "execution_count": 49,
   "id": "cea74c18",
   "metadata": {},
   "outputs": [
    {
     "name": "stdout",
     "output_type": "stream",
     "text": [
      "NO\n"
     ]
    }
   ],
   "source": [
    "inp =isValidString('aabbc')\n",
    "print(inp)"
   ]
  },
  {
   "cell_type": "markdown",
   "id": "6876d8d6",
   "metadata": {},
   "source": [
    "# Question 3"
   ]
  },
  {
   "cell_type": "markdown",
   "id": "797df304",
   "metadata": {},
   "source": [
    "Write a program, which would download the data from the provided link, and then read the data and convert\n",
    "that into properly structured data and return it in Excel format."
   ]
  },
  {
   "cell_type": "code",
   "execution_count": 37,
   "id": "c32f5a01",
   "metadata": {},
   "outputs": [],
   "source": [
    "import requests\n",
    "import pandas as pd"
   ]
  },
  {
   "cell_type": "code",
   "execution_count": 38,
   "id": "037a476d",
   "metadata": {},
   "outputs": [],
   "source": [
    "def convert_to_dataframe(data):\n",
    "    # Extract the required attributes from the JSON data\n",
    "    pokemon_list = data.get(\"pokemon\", [])\n",
    "\n",
    "    # Create an empty DataFrame\n",
    "    df = pd.DataFrame()\n",
    "\n",
    "    # Iterate through each Pokemon in the list\n",
    "    for pokemon in pokemon_list:\n",
    "        pokemon_data = {\n",
    "            \"id\": pokemon.get(\"id\"),\n",
    "            \"num\": pokemon.get(\"num\"),\n",
    "            \"name\": pokemon.get(\"name\"),\n",
    "            \"img\": pokemon.get(\"img\"),\n",
    "            \"type\": \", \".join(pokemon.get(\"type\", [])),\n",
    "            \"height\": pokemon.get(\"height\"),\n",
    "            \"weight\": pokemon.get(\"weight\"),\n",
    "            \"candy\": pokemon.get(\"candy\"),\n",
    "            \"candy_count\": pokemon.get(\"candy_count\"),\n",
    "            \"egg\": pokemon.get(\"egg\"),\n",
    "            \"spawn_chance\": pokemon.get(\"spawn_chance\"),\n",
    "            \"avg_spawns\": pokemon.get(\"avg_spawns\"),\n",
    "            \"spawn_time\": pokemon.get(\"spawn_time\"),\n",
    "            \"multipliers\": pokemon.get(\"multipliers\", []),\n",
    "            \"weakness\": \", \".join(pokemon.get(\"weaknesses\", [])),\n",
    "            \"next_evolution\": \", \".join(evolution[\"name\"] for evolution in pokemon.get(\"next_evolution\", [])),\n",
    "            \"prev_evolution\": \", \".join(evolution[\"name\"] for evolution in pokemon.get(\"prev_evolution\", []))\n",
    "        }\n",
    "\n",
    "        # Append the Pokemon data to the DataFrame\n",
    "        df = df.append(pokemon_data, ignore_index=True)\n",
    "\n",
    "    return df\n"
   ]
  },
  {
   "cell_type": "code",
   "execution_count": 39,
   "id": "fdbc8c89",
   "metadata": {},
   "outputs": [],
   "source": [
    "\n",
    "def download_data(url):\n",
    "    response = requests.get(url)\n",
    "    if response.status_code == 200:\n",
    "        return response.json()\n",
    "    else:\n",
    "        raise Exception(f\"Failed to download data from {url}\")\n"
   ]
  },
  {
   "cell_type": "code",
   "execution_count": 40,
   "id": "81d458d1",
   "metadata": {},
   "outputs": [],
   "source": [
    "def export_to_excel(dataframe, filename):\n",
    "    # Create a Pandas Excel writer using openpyxl\n",
    "    writer = pd.ExcelWriter(filename, engine='openpyxl')\n",
    "\n",
    "    # Convert the DataFrame to an Excel sheet\n",
    "    dataframe.to_excel(writer, index=False, sheet_name='Pokemon')\n",
    "\n",
    "    # Save the Excel file\n",
    "    writer.save()\n"
   ]
  },
  {
   "cell_type": "code",
   "execution_count": 41,
   "id": "d28a6aed",
   "metadata": {},
   "outputs": [
    {
     "name": "stderr",
     "output_type": "stream",
     "text": [
      "C:\\Users\\8092\\AppData\\Local\\Temp\\ipykernel_15076\\2183070409.py:31: FutureWarning: The frame.append method is deprecated and will be removed from pandas in a future version. Use pandas.concat instead.\n",
      "  df = df.append(pokemon_data, ignore_index=True)\n",
      "C:\\Users\\8092\\AppData\\Local\\Temp\\ipykernel_15076\\2183070409.py:31: FutureWarning: The frame.append method is deprecated and will be removed from pandas in a future version. Use pandas.concat instead.\n",
      "  df = df.append(pokemon_data, ignore_index=True)\n",
      "C:\\Users\\8092\\AppData\\Local\\Temp\\ipykernel_15076\\2183070409.py:31: FutureWarning: The frame.append method is deprecated and will be removed from pandas in a future version. Use pandas.concat instead.\n",
      "  df = df.append(pokemon_data, ignore_index=True)\n",
      "C:\\Users\\8092\\AppData\\Local\\Temp\\ipykernel_15076\\2183070409.py:31: FutureWarning: The frame.append method is deprecated and will be removed from pandas in a future version. Use pandas.concat instead.\n",
      "  df = df.append(pokemon_data, ignore_index=True)\n",
      "C:\\Users\\8092\\AppData\\Local\\Temp\\ipykernel_15076\\2183070409.py:31: FutureWarning: The frame.append method is deprecated and will be removed from pandas in a future version. Use pandas.concat instead.\n",
      "  df = df.append(pokemon_data, ignore_index=True)\n",
      "C:\\Users\\8092\\AppData\\Local\\Temp\\ipykernel_15076\\2183070409.py:31: FutureWarning: The frame.append method is deprecated and will be removed from pandas in a future version. Use pandas.concat instead.\n",
      "  df = df.append(pokemon_data, ignore_index=True)\n",
      "C:\\Users\\8092\\AppData\\Local\\Temp\\ipykernel_15076\\2183070409.py:31: FutureWarning: The frame.append method is deprecated and will be removed from pandas in a future version. Use pandas.concat instead.\n",
      "  df = df.append(pokemon_data, ignore_index=True)\n",
      "C:\\Users\\8092\\AppData\\Local\\Temp\\ipykernel_15076\\2183070409.py:31: FutureWarning: The frame.append method is deprecated and will be removed from pandas in a future version. Use pandas.concat instead.\n",
      "  df = df.append(pokemon_data, ignore_index=True)\n",
      "C:\\Users\\8092\\AppData\\Local\\Temp\\ipykernel_15076\\2183070409.py:31: FutureWarning: The frame.append method is deprecated and will be removed from pandas in a future version. Use pandas.concat instead.\n",
      "  df = df.append(pokemon_data, ignore_index=True)\n",
      "C:\\Users\\8092\\AppData\\Local\\Temp\\ipykernel_15076\\2183070409.py:31: FutureWarning: The frame.append method is deprecated and will be removed from pandas in a future version. Use pandas.concat instead.\n",
      "  df = df.append(pokemon_data, ignore_index=True)\n",
      "C:\\Users\\8092\\AppData\\Local\\Temp\\ipykernel_15076\\2183070409.py:31: FutureWarning: The frame.append method is deprecated and will be removed from pandas in a future version. Use pandas.concat instead.\n",
      "  df = df.append(pokemon_data, ignore_index=True)\n",
      "C:\\Users\\8092\\AppData\\Local\\Temp\\ipykernel_15076\\2183070409.py:31: FutureWarning: The frame.append method is deprecated and will be removed from pandas in a future version. Use pandas.concat instead.\n",
      "  df = df.append(pokemon_data, ignore_index=True)\n",
      "C:\\Users\\8092\\AppData\\Local\\Temp\\ipykernel_15076\\2183070409.py:31: FutureWarning: The frame.append method is deprecated and will be removed from pandas in a future version. Use pandas.concat instead.\n",
      "  df = df.append(pokemon_data, ignore_index=True)\n",
      "C:\\Users\\8092\\AppData\\Local\\Temp\\ipykernel_15076\\2183070409.py:31: FutureWarning: The frame.append method is deprecated and will be removed from pandas in a future version. Use pandas.concat instead.\n",
      "  df = df.append(pokemon_data, ignore_index=True)\n",
      "C:\\Users\\8092\\AppData\\Local\\Temp\\ipykernel_15076\\2183070409.py:31: FutureWarning: The frame.append method is deprecated and will be removed from pandas in a future version. Use pandas.concat instead.\n",
      "  df = df.append(pokemon_data, ignore_index=True)\n",
      "C:\\Users\\8092\\AppData\\Local\\Temp\\ipykernel_15076\\2183070409.py:31: FutureWarning: The frame.append method is deprecated and will be removed from pandas in a future version. Use pandas.concat instead.\n",
      "  df = df.append(pokemon_data, ignore_index=True)\n",
      "C:\\Users\\8092\\AppData\\Local\\Temp\\ipykernel_15076\\2183070409.py:31: FutureWarning: The frame.append method is deprecated and will be removed from pandas in a future version. Use pandas.concat instead.\n",
      "  df = df.append(pokemon_data, ignore_index=True)\n",
      "C:\\Users\\8092\\AppData\\Local\\Temp\\ipykernel_15076\\2183070409.py:31: FutureWarning: The frame.append method is deprecated and will be removed from pandas in a future version. Use pandas.concat instead.\n",
      "  df = df.append(pokemon_data, ignore_index=True)\n",
      "C:\\Users\\8092\\AppData\\Local\\Temp\\ipykernel_15076\\2183070409.py:31: FutureWarning: The frame.append method is deprecated and will be removed from pandas in a future version. Use pandas.concat instead.\n",
      "  df = df.append(pokemon_data, ignore_index=True)\n",
      "C:\\Users\\8092\\AppData\\Local\\Temp\\ipykernel_15076\\2183070409.py:31: FutureWarning: The frame.append method is deprecated and will be removed from pandas in a future version. Use pandas.concat instead.\n",
      "  df = df.append(pokemon_data, ignore_index=True)\n",
      "C:\\Users\\8092\\AppData\\Local\\Temp\\ipykernel_15076\\2183070409.py:31: FutureWarning: The frame.append method is deprecated and will be removed from pandas in a future version. Use pandas.concat instead.\n",
      "  df = df.append(pokemon_data, ignore_index=True)\n",
      "C:\\Users\\8092\\AppData\\Local\\Temp\\ipykernel_15076\\2183070409.py:31: FutureWarning: The frame.append method is deprecated and will be removed from pandas in a future version. Use pandas.concat instead.\n",
      "  df = df.append(pokemon_data, ignore_index=True)\n",
      "C:\\Users\\8092\\AppData\\Local\\Temp\\ipykernel_15076\\2183070409.py:31: FutureWarning: The frame.append method is deprecated and will be removed from pandas in a future version. Use pandas.concat instead.\n",
      "  df = df.append(pokemon_data, ignore_index=True)\n",
      "C:\\Users\\8092\\AppData\\Local\\Temp\\ipykernel_15076\\2183070409.py:31: FutureWarning: The frame.append method is deprecated and will be removed from pandas in a future version. Use pandas.concat instead.\n",
      "  df = df.append(pokemon_data, ignore_index=True)\n",
      "C:\\Users\\8092\\AppData\\Local\\Temp\\ipykernel_15076\\2183070409.py:31: FutureWarning: The frame.append method is deprecated and will be removed from pandas in a future version. Use pandas.concat instead.\n",
      "  df = df.append(pokemon_data, ignore_index=True)\n",
      "C:\\Users\\8092\\AppData\\Local\\Temp\\ipykernel_15076\\2183070409.py:31: FutureWarning: The frame.append method is deprecated and will be removed from pandas in a future version. Use pandas.concat instead.\n",
      "  df = df.append(pokemon_data, ignore_index=True)\n",
      "C:\\Users\\8092\\AppData\\Local\\Temp\\ipykernel_15076\\2183070409.py:31: FutureWarning: The frame.append method is deprecated and will be removed from pandas in a future version. Use pandas.concat instead.\n",
      "  df = df.append(pokemon_data, ignore_index=True)\n",
      "C:\\Users\\8092\\AppData\\Local\\Temp\\ipykernel_15076\\2183070409.py:31: FutureWarning: The frame.append method is deprecated and will be removed from pandas in a future version. Use pandas.concat instead.\n",
      "  df = df.append(pokemon_data, ignore_index=True)\n",
      "C:\\Users\\8092\\AppData\\Local\\Temp\\ipykernel_15076\\2183070409.py:31: FutureWarning: The frame.append method is deprecated and will be removed from pandas in a future version. Use pandas.concat instead.\n",
      "  df = df.append(pokemon_data, ignore_index=True)\n",
      "C:\\Users\\8092\\AppData\\Local\\Temp\\ipykernel_15076\\2183070409.py:31: FutureWarning: The frame.append method is deprecated and will be removed from pandas in a future version. Use pandas.concat instead.\n",
      "  df = df.append(pokemon_data, ignore_index=True)\n",
      "C:\\Users\\8092\\AppData\\Local\\Temp\\ipykernel_15076\\2183070409.py:31: FutureWarning: The frame.append method is deprecated and will be removed from pandas in a future version. Use pandas.concat instead.\n",
      "  df = df.append(pokemon_data, ignore_index=True)\n",
      "C:\\Users\\8092\\AppData\\Local\\Temp\\ipykernel_15076\\2183070409.py:31: FutureWarning: The frame.append method is deprecated and will be removed from pandas in a future version. Use pandas.concat instead.\n",
      "  df = df.append(pokemon_data, ignore_index=True)\n",
      "C:\\Users\\8092\\AppData\\Local\\Temp\\ipykernel_15076\\2183070409.py:31: FutureWarning: The frame.append method is deprecated and will be removed from pandas in a future version. Use pandas.concat instead.\n",
      "  df = df.append(pokemon_data, ignore_index=True)\n",
      "C:\\Users\\8092\\AppData\\Local\\Temp\\ipykernel_15076\\2183070409.py:31: FutureWarning: The frame.append method is deprecated and will be removed from pandas in a future version. Use pandas.concat instead.\n",
      "  df = df.append(pokemon_data, ignore_index=True)\n",
      "C:\\Users\\8092\\AppData\\Local\\Temp\\ipykernel_15076\\2183070409.py:31: FutureWarning: The frame.append method is deprecated and will be removed from pandas in a future version. Use pandas.concat instead.\n",
      "  df = df.append(pokemon_data, ignore_index=True)\n",
      "C:\\Users\\8092\\AppData\\Local\\Temp\\ipykernel_15076\\2183070409.py:31: FutureWarning: The frame.append method is deprecated and will be removed from pandas in a future version. Use pandas.concat instead.\n",
      "  df = df.append(pokemon_data, ignore_index=True)\n",
      "C:\\Users\\8092\\AppData\\Local\\Temp\\ipykernel_15076\\2183070409.py:31: FutureWarning: The frame.append method is deprecated and will be removed from pandas in a future version. Use pandas.concat instead.\n",
      "  df = df.append(pokemon_data, ignore_index=True)\n",
      "C:\\Users\\8092\\AppData\\Local\\Temp\\ipykernel_15076\\2183070409.py:31: FutureWarning: The frame.append method is deprecated and will be removed from pandas in a future version. Use pandas.concat instead.\n",
      "  df = df.append(pokemon_data, ignore_index=True)\n",
      "C:\\Users\\8092\\AppData\\Local\\Temp\\ipykernel_15076\\2183070409.py:31: FutureWarning: The frame.append method is deprecated and will be removed from pandas in a future version. Use pandas.concat instead.\n",
      "  df = df.append(pokemon_data, ignore_index=True)\n",
      "C:\\Users\\8092\\AppData\\Local\\Temp\\ipykernel_15076\\2183070409.py:31: FutureWarning: The frame.append method is deprecated and will be removed from pandas in a future version. Use pandas.concat instead.\n",
      "  df = df.append(pokemon_data, ignore_index=True)\n",
      "C:\\Users\\8092\\AppData\\Local\\Temp\\ipykernel_15076\\2183070409.py:31: FutureWarning: The frame.append method is deprecated and will be removed from pandas in a future version. Use pandas.concat instead.\n",
      "  df = df.append(pokemon_data, ignore_index=True)\n"
     ]
    },
    {
     "name": "stderr",
     "output_type": "stream",
     "text": [
      "C:\\Users\\8092\\AppData\\Local\\Temp\\ipykernel_15076\\2183070409.py:31: FutureWarning: The frame.append method is deprecated and will be removed from pandas in a future version. Use pandas.concat instead.\n",
      "  df = df.append(pokemon_data, ignore_index=True)\n",
      "C:\\Users\\8092\\AppData\\Local\\Temp\\ipykernel_15076\\2183070409.py:31: FutureWarning: The frame.append method is deprecated and will be removed from pandas in a future version. Use pandas.concat instead.\n",
      "  df = df.append(pokemon_data, ignore_index=True)\n",
      "C:\\Users\\8092\\AppData\\Local\\Temp\\ipykernel_15076\\2183070409.py:31: FutureWarning: The frame.append method is deprecated and will be removed from pandas in a future version. Use pandas.concat instead.\n",
      "  df = df.append(pokemon_data, ignore_index=True)\n",
      "C:\\Users\\8092\\AppData\\Local\\Temp\\ipykernel_15076\\2183070409.py:31: FutureWarning: The frame.append method is deprecated and will be removed from pandas in a future version. Use pandas.concat instead.\n",
      "  df = df.append(pokemon_data, ignore_index=True)\n",
      "C:\\Users\\8092\\AppData\\Local\\Temp\\ipykernel_15076\\2183070409.py:31: FutureWarning: The frame.append method is deprecated and will be removed from pandas in a future version. Use pandas.concat instead.\n",
      "  df = df.append(pokemon_data, ignore_index=True)\n",
      "C:\\Users\\8092\\AppData\\Local\\Temp\\ipykernel_15076\\2183070409.py:31: FutureWarning: The frame.append method is deprecated and will be removed from pandas in a future version. Use pandas.concat instead.\n",
      "  df = df.append(pokemon_data, ignore_index=True)\n",
      "C:\\Users\\8092\\AppData\\Local\\Temp\\ipykernel_15076\\2183070409.py:31: FutureWarning: The frame.append method is deprecated and will be removed from pandas in a future version. Use pandas.concat instead.\n",
      "  df = df.append(pokemon_data, ignore_index=True)\n",
      "C:\\Users\\8092\\AppData\\Local\\Temp\\ipykernel_15076\\2183070409.py:31: FutureWarning: The frame.append method is deprecated and will be removed from pandas in a future version. Use pandas.concat instead.\n",
      "  df = df.append(pokemon_data, ignore_index=True)\n",
      "C:\\Users\\8092\\AppData\\Local\\Temp\\ipykernel_15076\\2183070409.py:31: FutureWarning: The frame.append method is deprecated and will be removed from pandas in a future version. Use pandas.concat instead.\n",
      "  df = df.append(pokemon_data, ignore_index=True)\n",
      "C:\\Users\\8092\\AppData\\Local\\Temp\\ipykernel_15076\\2183070409.py:31: FutureWarning: The frame.append method is deprecated and will be removed from pandas in a future version. Use pandas.concat instead.\n",
      "  df = df.append(pokemon_data, ignore_index=True)\n",
      "C:\\Users\\8092\\AppData\\Local\\Temp\\ipykernel_15076\\2183070409.py:31: FutureWarning: The frame.append method is deprecated and will be removed from pandas in a future version. Use pandas.concat instead.\n",
      "  df = df.append(pokemon_data, ignore_index=True)\n",
      "C:\\Users\\8092\\AppData\\Local\\Temp\\ipykernel_15076\\2183070409.py:31: FutureWarning: The frame.append method is deprecated and will be removed from pandas in a future version. Use pandas.concat instead.\n",
      "  df = df.append(pokemon_data, ignore_index=True)\n",
      "C:\\Users\\8092\\AppData\\Local\\Temp\\ipykernel_15076\\2183070409.py:31: FutureWarning: The frame.append method is deprecated and will be removed from pandas in a future version. Use pandas.concat instead.\n",
      "  df = df.append(pokemon_data, ignore_index=True)\n",
      "C:\\Users\\8092\\AppData\\Local\\Temp\\ipykernel_15076\\2183070409.py:31: FutureWarning: The frame.append method is deprecated and will be removed from pandas in a future version. Use pandas.concat instead.\n",
      "  df = df.append(pokemon_data, ignore_index=True)\n",
      "C:\\Users\\8092\\AppData\\Local\\Temp\\ipykernel_15076\\2183070409.py:31: FutureWarning: The frame.append method is deprecated and will be removed from pandas in a future version. Use pandas.concat instead.\n",
      "  df = df.append(pokemon_data, ignore_index=True)\n",
      "C:\\Users\\8092\\AppData\\Local\\Temp\\ipykernel_15076\\2183070409.py:31: FutureWarning: The frame.append method is deprecated and will be removed from pandas in a future version. Use pandas.concat instead.\n",
      "  df = df.append(pokemon_data, ignore_index=True)\n",
      "C:\\Users\\8092\\AppData\\Local\\Temp\\ipykernel_15076\\2183070409.py:31: FutureWarning: The frame.append method is deprecated and will be removed from pandas in a future version. Use pandas.concat instead.\n",
      "  df = df.append(pokemon_data, ignore_index=True)\n",
      "C:\\Users\\8092\\AppData\\Local\\Temp\\ipykernel_15076\\2183070409.py:31: FutureWarning: The frame.append method is deprecated and will be removed from pandas in a future version. Use pandas.concat instead.\n",
      "  df = df.append(pokemon_data, ignore_index=True)\n",
      "C:\\Users\\8092\\AppData\\Local\\Temp\\ipykernel_15076\\2183070409.py:31: FutureWarning: The frame.append method is deprecated and will be removed from pandas in a future version. Use pandas.concat instead.\n",
      "  df = df.append(pokemon_data, ignore_index=True)\n",
      "C:\\Users\\8092\\AppData\\Local\\Temp\\ipykernel_15076\\2183070409.py:31: FutureWarning: The frame.append method is deprecated and will be removed from pandas in a future version. Use pandas.concat instead.\n",
      "  df = df.append(pokemon_data, ignore_index=True)\n",
      "C:\\Users\\8092\\AppData\\Local\\Temp\\ipykernel_15076\\2183070409.py:31: FutureWarning: The frame.append method is deprecated and will be removed from pandas in a future version. Use pandas.concat instead.\n",
      "  df = df.append(pokemon_data, ignore_index=True)\n",
      "C:\\Users\\8092\\AppData\\Local\\Temp\\ipykernel_15076\\2183070409.py:31: FutureWarning: The frame.append method is deprecated and will be removed from pandas in a future version. Use pandas.concat instead.\n",
      "  df = df.append(pokemon_data, ignore_index=True)\n",
      "C:\\Users\\8092\\AppData\\Local\\Temp\\ipykernel_15076\\2183070409.py:31: FutureWarning: The frame.append method is deprecated and will be removed from pandas in a future version. Use pandas.concat instead.\n",
      "  df = df.append(pokemon_data, ignore_index=True)\n",
      "C:\\Users\\8092\\AppData\\Local\\Temp\\ipykernel_15076\\2183070409.py:31: FutureWarning: The frame.append method is deprecated and will be removed from pandas in a future version. Use pandas.concat instead.\n",
      "  df = df.append(pokemon_data, ignore_index=True)\n",
      "C:\\Users\\8092\\AppData\\Local\\Temp\\ipykernel_15076\\2183070409.py:31: FutureWarning: The frame.append method is deprecated and will be removed from pandas in a future version. Use pandas.concat instead.\n",
      "  df = df.append(pokemon_data, ignore_index=True)\n",
      "C:\\Users\\8092\\AppData\\Local\\Temp\\ipykernel_15076\\2183070409.py:31: FutureWarning: The frame.append method is deprecated and will be removed from pandas in a future version. Use pandas.concat instead.\n",
      "  df = df.append(pokemon_data, ignore_index=True)\n",
      "C:\\Users\\8092\\AppData\\Local\\Temp\\ipykernel_15076\\2183070409.py:31: FutureWarning: The frame.append method is deprecated and will be removed from pandas in a future version. Use pandas.concat instead.\n",
      "  df = df.append(pokemon_data, ignore_index=True)\n",
      "C:\\Users\\8092\\AppData\\Local\\Temp\\ipykernel_15076\\2183070409.py:31: FutureWarning: The frame.append method is deprecated and will be removed from pandas in a future version. Use pandas.concat instead.\n",
      "  df = df.append(pokemon_data, ignore_index=True)\n",
      "C:\\Users\\8092\\AppData\\Local\\Temp\\ipykernel_15076\\2183070409.py:31: FutureWarning: The frame.append method is deprecated and will be removed from pandas in a future version. Use pandas.concat instead.\n",
      "  df = df.append(pokemon_data, ignore_index=True)\n",
      "C:\\Users\\8092\\AppData\\Local\\Temp\\ipykernel_15076\\2183070409.py:31: FutureWarning: The frame.append method is deprecated and will be removed from pandas in a future version. Use pandas.concat instead.\n",
      "  df = df.append(pokemon_data, ignore_index=True)\n",
      "C:\\Users\\8092\\AppData\\Local\\Temp\\ipykernel_15076\\2183070409.py:31: FutureWarning: The frame.append method is deprecated and will be removed from pandas in a future version. Use pandas.concat instead.\n",
      "  df = df.append(pokemon_data, ignore_index=True)\n",
      "C:\\Users\\8092\\AppData\\Local\\Temp\\ipykernel_15076\\2183070409.py:31: FutureWarning: The frame.append method is deprecated and will be removed from pandas in a future version. Use pandas.concat instead.\n",
      "  df = df.append(pokemon_data, ignore_index=True)\n",
      "C:\\Users\\8092\\AppData\\Local\\Temp\\ipykernel_15076\\2183070409.py:31: FutureWarning: The frame.append method is deprecated and will be removed from pandas in a future version. Use pandas.concat instead.\n",
      "  df = df.append(pokemon_data, ignore_index=True)\n",
      "C:\\Users\\8092\\AppData\\Local\\Temp\\ipykernel_15076\\2183070409.py:31: FutureWarning: The frame.append method is deprecated and will be removed from pandas in a future version. Use pandas.concat instead.\n",
      "  df = df.append(pokemon_data, ignore_index=True)\n",
      "C:\\Users\\8092\\AppData\\Local\\Temp\\ipykernel_15076\\2183070409.py:31: FutureWarning: The frame.append method is deprecated and will be removed from pandas in a future version. Use pandas.concat instead.\n",
      "  df = df.append(pokemon_data, ignore_index=True)\n",
      "C:\\Users\\8092\\AppData\\Local\\Temp\\ipykernel_15076\\2183070409.py:31: FutureWarning: The frame.append method is deprecated and will be removed from pandas in a future version. Use pandas.concat instead.\n",
      "  df = df.append(pokemon_data, ignore_index=True)\n",
      "C:\\Users\\8092\\AppData\\Local\\Temp\\ipykernel_15076\\2183070409.py:31: FutureWarning: The frame.append method is deprecated and will be removed from pandas in a future version. Use pandas.concat instead.\n",
      "  df = df.append(pokemon_data, ignore_index=True)\n",
      "C:\\Users\\8092\\AppData\\Local\\Temp\\ipykernel_15076\\2183070409.py:31: FutureWarning: The frame.append method is deprecated and will be removed from pandas in a future version. Use pandas.concat instead.\n",
      "  df = df.append(pokemon_data, ignore_index=True)\n",
      "C:\\Users\\8092\\AppData\\Local\\Temp\\ipykernel_15076\\2183070409.py:31: FutureWarning: The frame.append method is deprecated and will be removed from pandas in a future version. Use pandas.concat instead.\n",
      "  df = df.append(pokemon_data, ignore_index=True)\n",
      "C:\\Users\\8092\\AppData\\Local\\Temp\\ipykernel_15076\\2183070409.py:31: FutureWarning: The frame.append method is deprecated and will be removed from pandas in a future version. Use pandas.concat instead.\n",
      "  df = df.append(pokemon_data, ignore_index=True)\n",
      "C:\\Users\\8092\\AppData\\Local\\Temp\\ipykernel_15076\\2183070409.py:31: FutureWarning: The frame.append method is deprecated and will be removed from pandas in a future version. Use pandas.concat instead.\n",
      "  df = df.append(pokemon_data, ignore_index=True)\n",
      "C:\\Users\\8092\\AppData\\Local\\Temp\\ipykernel_15076\\2183070409.py:31: FutureWarning: The frame.append method is deprecated and will be removed from pandas in a future version. Use pandas.concat instead.\n",
      "  df = df.append(pokemon_data, ignore_index=True)\n",
      "C:\\Users\\8092\\AppData\\Local\\Temp\\ipykernel_15076\\2183070409.py:31: FutureWarning: The frame.append method is deprecated and will be removed from pandas in a future version. Use pandas.concat instead.\n",
      "  df = df.append(pokemon_data, ignore_index=True)\n",
      "C:\\Users\\8092\\AppData\\Local\\Temp\\ipykernel_15076\\2183070409.py:31: FutureWarning: The frame.append method is deprecated and will be removed from pandas in a future version. Use pandas.concat instead.\n",
      "  df = df.append(pokemon_data, ignore_index=True)\n",
      "C:\\Users\\8092\\AppData\\Local\\Temp\\ipykernel_15076\\2183070409.py:31: FutureWarning: The frame.append method is deprecated and will be removed from pandas in a future version. Use pandas.concat instead.\n",
      "  df = df.append(pokemon_data, ignore_index=True)\n"
     ]
    },
    {
     "name": "stderr",
     "output_type": "stream",
     "text": [
      "C:\\Users\\8092\\AppData\\Local\\Temp\\ipykernel_15076\\2183070409.py:31: FutureWarning: The frame.append method is deprecated and will be removed from pandas in a future version. Use pandas.concat instead.\n",
      "  df = df.append(pokemon_data, ignore_index=True)\n",
      "C:\\Users\\8092\\AppData\\Local\\Temp\\ipykernel_15076\\2183070409.py:31: FutureWarning: The frame.append method is deprecated and will be removed from pandas in a future version. Use pandas.concat instead.\n",
      "  df = df.append(pokemon_data, ignore_index=True)\n",
      "C:\\Users\\8092\\AppData\\Local\\Temp\\ipykernel_15076\\2183070409.py:31: FutureWarning: The frame.append method is deprecated and will be removed from pandas in a future version. Use pandas.concat instead.\n",
      "  df = df.append(pokemon_data, ignore_index=True)\n",
      "C:\\Users\\8092\\AppData\\Local\\Temp\\ipykernel_15076\\2183070409.py:31: FutureWarning: The frame.append method is deprecated and will be removed from pandas in a future version. Use pandas.concat instead.\n",
      "  df = df.append(pokemon_data, ignore_index=True)\n",
      "C:\\Users\\8092\\AppData\\Local\\Temp\\ipykernel_15076\\2183070409.py:31: FutureWarning: The frame.append method is deprecated and will be removed from pandas in a future version. Use pandas.concat instead.\n",
      "  df = df.append(pokemon_data, ignore_index=True)\n",
      "C:\\Users\\8092\\AppData\\Local\\Temp\\ipykernel_15076\\2183070409.py:31: FutureWarning: The frame.append method is deprecated and will be removed from pandas in a future version. Use pandas.concat instead.\n",
      "  df = df.append(pokemon_data, ignore_index=True)\n",
      "C:\\Users\\8092\\AppData\\Local\\Temp\\ipykernel_15076\\2183070409.py:31: FutureWarning: The frame.append method is deprecated and will be removed from pandas in a future version. Use pandas.concat instead.\n",
      "  df = df.append(pokemon_data, ignore_index=True)\n",
      "C:\\Users\\8092\\AppData\\Local\\Temp\\ipykernel_15076\\2183070409.py:31: FutureWarning: The frame.append method is deprecated and will be removed from pandas in a future version. Use pandas.concat instead.\n",
      "  df = df.append(pokemon_data, ignore_index=True)\n",
      "C:\\Users\\8092\\AppData\\Local\\Temp\\ipykernel_15076\\2183070409.py:31: FutureWarning: The frame.append method is deprecated and will be removed from pandas in a future version. Use pandas.concat instead.\n",
      "  df = df.append(pokemon_data, ignore_index=True)\n",
      "C:\\Users\\8092\\AppData\\Local\\Temp\\ipykernel_15076\\2183070409.py:31: FutureWarning: The frame.append method is deprecated and will be removed from pandas in a future version. Use pandas.concat instead.\n",
      "  df = df.append(pokemon_data, ignore_index=True)\n",
      "C:\\Users\\8092\\AppData\\Local\\Temp\\ipykernel_15076\\2183070409.py:31: FutureWarning: The frame.append method is deprecated and will be removed from pandas in a future version. Use pandas.concat instead.\n",
      "  df = df.append(pokemon_data, ignore_index=True)\n",
      "C:\\Users\\8092\\AppData\\Local\\Temp\\ipykernel_15076\\2183070409.py:31: FutureWarning: The frame.append method is deprecated and will be removed from pandas in a future version. Use pandas.concat instead.\n",
      "  df = df.append(pokemon_data, ignore_index=True)\n",
      "C:\\Users\\8092\\AppData\\Local\\Temp\\ipykernel_15076\\2183070409.py:31: FutureWarning: The frame.append method is deprecated and will be removed from pandas in a future version. Use pandas.concat instead.\n",
      "  df = df.append(pokemon_data, ignore_index=True)\n",
      "C:\\Users\\8092\\AppData\\Local\\Temp\\ipykernel_15076\\2183070409.py:31: FutureWarning: The frame.append method is deprecated and will be removed from pandas in a future version. Use pandas.concat instead.\n",
      "  df = df.append(pokemon_data, ignore_index=True)\n",
      "C:\\Users\\8092\\AppData\\Local\\Temp\\ipykernel_15076\\2183070409.py:31: FutureWarning: The frame.append method is deprecated and will be removed from pandas in a future version. Use pandas.concat instead.\n",
      "  df = df.append(pokemon_data, ignore_index=True)\n",
      "C:\\Users\\8092\\AppData\\Local\\Temp\\ipykernel_15076\\2183070409.py:31: FutureWarning: The frame.append method is deprecated and will be removed from pandas in a future version. Use pandas.concat instead.\n",
      "  df = df.append(pokemon_data, ignore_index=True)\n",
      "C:\\Users\\8092\\AppData\\Local\\Temp\\ipykernel_15076\\2183070409.py:31: FutureWarning: The frame.append method is deprecated and will be removed from pandas in a future version. Use pandas.concat instead.\n",
      "  df = df.append(pokemon_data, ignore_index=True)\n",
      "C:\\Users\\8092\\AppData\\Local\\Temp\\ipykernel_15076\\2183070409.py:31: FutureWarning: The frame.append method is deprecated and will be removed from pandas in a future version. Use pandas.concat instead.\n",
      "  df = df.append(pokemon_data, ignore_index=True)\n",
      "C:\\Users\\8092\\AppData\\Local\\Temp\\ipykernel_15076\\2183070409.py:31: FutureWarning: The frame.append method is deprecated and will be removed from pandas in a future version. Use pandas.concat instead.\n",
      "  df = df.append(pokemon_data, ignore_index=True)\n",
      "C:\\Users\\8092\\AppData\\Local\\Temp\\ipykernel_15076\\2183070409.py:31: FutureWarning: The frame.append method is deprecated and will be removed from pandas in a future version. Use pandas.concat instead.\n",
      "  df = df.append(pokemon_data, ignore_index=True)\n",
      "C:\\Users\\8092\\AppData\\Local\\Temp\\ipykernel_15076\\2183070409.py:31: FutureWarning: The frame.append method is deprecated and will be removed from pandas in a future version. Use pandas.concat instead.\n",
      "  df = df.append(pokemon_data, ignore_index=True)\n",
      "C:\\Users\\8092\\AppData\\Local\\Temp\\ipykernel_15076\\2183070409.py:31: FutureWarning: The frame.append method is deprecated and will be removed from pandas in a future version. Use pandas.concat instead.\n",
      "  df = df.append(pokemon_data, ignore_index=True)\n",
      "C:\\Users\\8092\\AppData\\Local\\Temp\\ipykernel_15076\\2183070409.py:31: FutureWarning: The frame.append method is deprecated and will be removed from pandas in a future version. Use pandas.concat instead.\n",
      "  df = df.append(pokemon_data, ignore_index=True)\n",
      "C:\\Users\\8092\\AppData\\Local\\Temp\\ipykernel_15076\\2183070409.py:31: FutureWarning: The frame.append method is deprecated and will be removed from pandas in a future version. Use pandas.concat instead.\n",
      "  df = df.append(pokemon_data, ignore_index=True)\n",
      "C:\\Users\\8092\\AppData\\Local\\Temp\\ipykernel_15076\\2183070409.py:31: FutureWarning: The frame.append method is deprecated and will be removed from pandas in a future version. Use pandas.concat instead.\n",
      "  df = df.append(pokemon_data, ignore_index=True)\n",
      "C:\\Users\\8092\\AppData\\Local\\Temp\\ipykernel_15076\\2183070409.py:31: FutureWarning: The frame.append method is deprecated and will be removed from pandas in a future version. Use pandas.concat instead.\n",
      "  df = df.append(pokemon_data, ignore_index=True)\n",
      "C:\\Users\\8092\\AppData\\Local\\Temp\\ipykernel_15076\\2183070409.py:31: FutureWarning: The frame.append method is deprecated and will be removed from pandas in a future version. Use pandas.concat instead.\n",
      "  df = df.append(pokemon_data, ignore_index=True)\n",
      "C:\\Users\\8092\\AppData\\Local\\Temp\\ipykernel_15076\\2183070409.py:31: FutureWarning: The frame.append method is deprecated and will be removed from pandas in a future version. Use pandas.concat instead.\n",
      "  df = df.append(pokemon_data, ignore_index=True)\n",
      "C:\\Users\\8092\\AppData\\Local\\Temp\\ipykernel_15076\\2183070409.py:31: FutureWarning: The frame.append method is deprecated and will be removed from pandas in a future version. Use pandas.concat instead.\n",
      "  df = df.append(pokemon_data, ignore_index=True)\n",
      "C:\\Users\\8092\\AppData\\Local\\Temp\\ipykernel_15076\\2183070409.py:31: FutureWarning: The frame.append method is deprecated and will be removed from pandas in a future version. Use pandas.concat instead.\n",
      "  df = df.append(pokemon_data, ignore_index=True)\n",
      "C:\\Users\\8092\\AppData\\Local\\Temp\\ipykernel_15076\\2183070409.py:31: FutureWarning: The frame.append method is deprecated and will be removed from pandas in a future version. Use pandas.concat instead.\n",
      "  df = df.append(pokemon_data, ignore_index=True)\n",
      "C:\\Users\\8092\\AppData\\Local\\Temp\\ipykernel_15076\\2183070409.py:31: FutureWarning: The frame.append method is deprecated and will be removed from pandas in a future version. Use pandas.concat instead.\n",
      "  df = df.append(pokemon_data, ignore_index=True)\n",
      "C:\\Users\\8092\\AppData\\Local\\Temp\\ipykernel_15076\\2183070409.py:31: FutureWarning: The frame.append method is deprecated and will be removed from pandas in a future version. Use pandas.concat instead.\n",
      "  df = df.append(pokemon_data, ignore_index=True)\n",
      "C:\\Users\\8092\\AppData\\Local\\Temp\\ipykernel_15076\\2183070409.py:31: FutureWarning: The frame.append method is deprecated and will be removed from pandas in a future version. Use pandas.concat instead.\n",
      "  df = df.append(pokemon_data, ignore_index=True)\n",
      "C:\\Users\\8092\\AppData\\Local\\Temp\\ipykernel_15076\\2183070409.py:31: FutureWarning: The frame.append method is deprecated and will be removed from pandas in a future version. Use pandas.concat instead.\n",
      "  df = df.append(pokemon_data, ignore_index=True)\n",
      "C:\\Users\\8092\\AppData\\Local\\Temp\\ipykernel_15076\\2183070409.py:31: FutureWarning: The frame.append method is deprecated and will be removed from pandas in a future version. Use pandas.concat instead.\n",
      "  df = df.append(pokemon_data, ignore_index=True)\n",
      "C:\\Users\\8092\\AppData\\Local\\Temp\\ipykernel_15076\\2183070409.py:31: FutureWarning: The frame.append method is deprecated and will be removed from pandas in a future version. Use pandas.concat instead.\n",
      "  df = df.append(pokemon_data, ignore_index=True)\n",
      "C:\\Users\\8092\\AppData\\Local\\Temp\\ipykernel_15076\\2183070409.py:31: FutureWarning: The frame.append method is deprecated and will be removed from pandas in a future version. Use pandas.concat instead.\n",
      "  df = df.append(pokemon_data, ignore_index=True)\n"
     ]
    },
    {
     "name": "stderr",
     "output_type": "stream",
     "text": [
      "C:\\Users\\8092\\AppData\\Local\\Temp\\ipykernel_15076\\2183070409.py:31: FutureWarning: The frame.append method is deprecated and will be removed from pandas in a future version. Use pandas.concat instead.\n",
      "  df = df.append(pokemon_data, ignore_index=True)\n",
      "C:\\Users\\8092\\AppData\\Local\\Temp\\ipykernel_15076\\2183070409.py:31: FutureWarning: The frame.append method is deprecated and will be removed from pandas in a future version. Use pandas.concat instead.\n",
      "  df = df.append(pokemon_data, ignore_index=True)\n",
      "C:\\Users\\8092\\AppData\\Local\\Temp\\ipykernel_15076\\2183070409.py:31: FutureWarning: The frame.append method is deprecated and will be removed from pandas in a future version. Use pandas.concat instead.\n",
      "  df = df.append(pokemon_data, ignore_index=True)\n",
      "C:\\Users\\8092\\AppData\\Local\\Temp\\ipykernel_15076\\2183070409.py:31: FutureWarning: The frame.append method is deprecated and will be removed from pandas in a future version. Use pandas.concat instead.\n",
      "  df = df.append(pokemon_data, ignore_index=True)\n",
      "C:\\Users\\8092\\AppData\\Local\\Temp\\ipykernel_15076\\2183070409.py:31: FutureWarning: The frame.append method is deprecated and will be removed from pandas in a future version. Use pandas.concat instead.\n",
      "  df = df.append(pokemon_data, ignore_index=True)\n",
      "C:\\Users\\8092\\AppData\\Local\\Temp\\ipykernel_15076\\2183070409.py:31: FutureWarning: The frame.append method is deprecated and will be removed from pandas in a future version. Use pandas.concat instead.\n",
      "  df = df.append(pokemon_data, ignore_index=True)\n",
      "C:\\Users\\8092\\AppData\\Local\\Temp\\ipykernel_15076\\2183070409.py:31: FutureWarning: The frame.append method is deprecated and will be removed from pandas in a future version. Use pandas.concat instead.\n",
      "  df = df.append(pokemon_data, ignore_index=True)\n",
      "C:\\Users\\8092\\AppData\\Local\\Temp\\ipykernel_15076\\2183070409.py:31: FutureWarning: The frame.append method is deprecated and will be removed from pandas in a future version. Use pandas.concat instead.\n",
      "  df = df.append(pokemon_data, ignore_index=True)\n",
      "C:\\Users\\8092\\AppData\\Local\\Temp\\ipykernel_15076\\2183070409.py:31: FutureWarning: The frame.append method is deprecated and will be removed from pandas in a future version. Use pandas.concat instead.\n",
      "  df = df.append(pokemon_data, ignore_index=True)\n",
      "C:\\Users\\8092\\AppData\\Local\\Temp\\ipykernel_15076\\2183070409.py:31: FutureWarning: The frame.append method is deprecated and will be removed from pandas in a future version. Use pandas.concat instead.\n",
      "  df = df.append(pokemon_data, ignore_index=True)\n",
      "C:\\Users\\8092\\AppData\\Local\\Temp\\ipykernel_15076\\2183070409.py:31: FutureWarning: The frame.append method is deprecated and will be removed from pandas in a future version. Use pandas.concat instead.\n",
      "  df = df.append(pokemon_data, ignore_index=True)\n",
      "C:\\Users\\8092\\AppData\\Local\\Temp\\ipykernel_15076\\2183070409.py:31: FutureWarning: The frame.append method is deprecated and will be removed from pandas in a future version. Use pandas.concat instead.\n",
      "  df = df.append(pokemon_data, ignore_index=True)\n",
      "C:\\Users\\8092\\AppData\\Local\\Temp\\ipykernel_15076\\2183070409.py:31: FutureWarning: The frame.append method is deprecated and will be removed from pandas in a future version. Use pandas.concat instead.\n",
      "  df = df.append(pokemon_data, ignore_index=True)\n",
      "C:\\Users\\8092\\AppData\\Local\\Temp\\ipykernel_15076\\2183070409.py:31: FutureWarning: The frame.append method is deprecated and will be removed from pandas in a future version. Use pandas.concat instead.\n",
      "  df = df.append(pokemon_data, ignore_index=True)\n",
      "C:\\Users\\8092\\AppData\\Local\\Temp\\ipykernel_15076\\2183070409.py:31: FutureWarning: The frame.append method is deprecated and will be removed from pandas in a future version. Use pandas.concat instead.\n",
      "  df = df.append(pokemon_data, ignore_index=True)\n",
      "C:\\Users\\8092\\AppData\\Local\\Temp\\ipykernel_15076\\2183070409.py:31: FutureWarning: The frame.append method is deprecated and will be removed from pandas in a future version. Use pandas.concat instead.\n",
      "  df = df.append(pokemon_data, ignore_index=True)\n",
      "C:\\Users\\8092\\AppData\\Local\\Temp\\ipykernel_15076\\2183070409.py:31: FutureWarning: The frame.append method is deprecated and will be removed from pandas in a future version. Use pandas.concat instead.\n",
      "  df = df.append(pokemon_data, ignore_index=True)\n",
      "C:\\Users\\8092\\AppData\\Local\\Temp\\ipykernel_15076\\2183070409.py:31: FutureWarning: The frame.append method is deprecated and will be removed from pandas in a future version. Use pandas.concat instead.\n",
      "  df = df.append(pokemon_data, ignore_index=True)\n",
      "C:\\Users\\8092\\AppData\\Local\\Temp\\ipykernel_15076\\2183070409.py:31: FutureWarning: The frame.append method is deprecated and will be removed from pandas in a future version. Use pandas.concat instead.\n",
      "  df = df.append(pokemon_data, ignore_index=True)\n",
      "C:\\Users\\8092\\AppData\\Local\\Temp\\ipykernel_15076\\2183070409.py:31: FutureWarning: The frame.append method is deprecated and will be removed from pandas in a future version. Use pandas.concat instead.\n",
      "  df = df.append(pokemon_data, ignore_index=True)\n",
      "C:\\Users\\8092\\AppData\\Local\\Temp\\ipykernel_15076\\2183070409.py:31: FutureWarning: The frame.append method is deprecated and will be removed from pandas in a future version. Use pandas.concat instead.\n",
      "  df = df.append(pokemon_data, ignore_index=True)\n",
      "C:\\Users\\8092\\AppData\\Local\\Temp\\ipykernel_15076\\2183070409.py:31: FutureWarning: The frame.append method is deprecated and will be removed from pandas in a future version. Use pandas.concat instead.\n",
      "  df = df.append(pokemon_data, ignore_index=True)\n",
      "C:\\Users\\8092\\AppData\\Local\\Temp\\ipykernel_15076\\2183070409.py:31: FutureWarning: The frame.append method is deprecated and will be removed from pandas in a future version. Use pandas.concat instead.\n",
      "  df = df.append(pokemon_data, ignore_index=True)\n",
      "C:\\Users\\8092\\AppData\\Local\\Temp\\ipykernel_15076\\2183070409.py:31: FutureWarning: The frame.append method is deprecated and will be removed from pandas in a future version. Use pandas.concat instead.\n",
      "  df = df.append(pokemon_data, ignore_index=True)\n",
      "C:\\Users\\8092\\AppData\\Local\\Temp\\ipykernel_15076\\2183070409.py:31: FutureWarning: The frame.append method is deprecated and will be removed from pandas in a future version. Use pandas.concat instead.\n",
      "  df = df.append(pokemon_data, ignore_index=True)\n",
      "C:\\Users\\8092\\AppData\\Local\\Temp\\ipykernel_15076\\2183070409.py:31: FutureWarning: The frame.append method is deprecated and will be removed from pandas in a future version. Use pandas.concat instead.\n",
      "  df = df.append(pokemon_data, ignore_index=True)\n",
      "C:\\Users\\8092\\AppData\\Local\\Temp\\ipykernel_15076\\2183070409.py:31: FutureWarning: The frame.append method is deprecated and will be removed from pandas in a future version. Use pandas.concat instead.\n",
      "  df = df.append(pokemon_data, ignore_index=True)\n"
     ]
    },
    {
     "ename": "PermissionError",
     "evalue": "[Errno 13] Permission denied: 'pokemon_data.xlsx'",
     "output_type": "error",
     "traceback": [
      "\u001b[1;31m---------------------------------------------------------------------------\u001b[0m",
      "\u001b[1;31mPermissionError\u001b[0m                           Traceback (most recent call last)",
      "Input \u001b[1;32mIn [41]\u001b[0m, in \u001b[0;36m<cell line: 10>\u001b[1;34m()\u001b[0m\n\u001b[0;32m      8\u001b[0m \u001b[38;5;66;03m# Export the DataFrame to an Excel file\u001b[39;00m\n\u001b[0;32m      9\u001b[0m excel_filename \u001b[38;5;241m=\u001b[39m \u001b[38;5;124m\"\u001b[39m\u001b[38;5;124mpokemon_data.xlsx\u001b[39m\u001b[38;5;124m\"\u001b[39m\n\u001b[1;32m---> 10\u001b[0m \u001b[43mexport_to_excel\u001b[49m\u001b[43m(\u001b[49m\u001b[43mdf\u001b[49m\u001b[43m,\u001b[49m\u001b[43m \u001b[49m\u001b[43mexcel_filename\u001b[49m\u001b[43m)\u001b[49m\n\u001b[0;32m     11\u001b[0m \u001b[38;5;28mprint\u001b[39m(\u001b[38;5;124mf\u001b[39m\u001b[38;5;124m\"\u001b[39m\u001b[38;5;124mData exported to \u001b[39m\u001b[38;5;132;01m{\u001b[39;00mexcel_filename\u001b[38;5;132;01m}\u001b[39;00m\u001b[38;5;124m\"\u001b[39m)\n",
      "Input \u001b[1;32mIn [40]\u001b[0m, in \u001b[0;36mexport_to_excel\u001b[1;34m(dataframe, filename)\u001b[0m\n\u001b[0;32m      1\u001b[0m \u001b[38;5;28;01mdef\u001b[39;00m \u001b[38;5;21mexport_to_excel\u001b[39m(dataframe, filename):\n\u001b[0;32m      2\u001b[0m     \u001b[38;5;66;03m# Create a Pandas Excel writer using openpyxl\u001b[39;00m\n\u001b[1;32m----> 3\u001b[0m     writer \u001b[38;5;241m=\u001b[39m \u001b[43mpd\u001b[49m\u001b[38;5;241;43m.\u001b[39;49m\u001b[43mExcelWriter\u001b[49m\u001b[43m(\u001b[49m\u001b[43mfilename\u001b[49m\u001b[43m,\u001b[49m\u001b[43m \u001b[49m\u001b[43mengine\u001b[49m\u001b[38;5;241;43m=\u001b[39;49m\u001b[38;5;124;43m'\u001b[39;49m\u001b[38;5;124;43mopenpyxl\u001b[39;49m\u001b[38;5;124;43m'\u001b[39;49m\u001b[43m)\u001b[49m\n\u001b[0;32m      5\u001b[0m     \u001b[38;5;66;03m# Convert the DataFrame to an Excel sheet\u001b[39;00m\n\u001b[0;32m      6\u001b[0m     dataframe\u001b[38;5;241m.\u001b[39mto_excel(writer, index\u001b[38;5;241m=\u001b[39m\u001b[38;5;28;01mFalse\u001b[39;00m, sheet_name\u001b[38;5;241m=\u001b[39m\u001b[38;5;124m'\u001b[39m\u001b[38;5;124mPokemon\u001b[39m\u001b[38;5;124m'\u001b[39m)\n",
      "File \u001b[1;32m~\\Anaconda3\\lib\\site-packages\\pandas\\io\\excel\\_openpyxl.py:53\u001b[0m, in \u001b[0;36mOpenpyxlWriter.__init__\u001b[1;34m(self, path, engine, date_format, datetime_format, mode, storage_options, if_sheet_exists, engine_kwargs, **kwargs)\u001b[0m\n\u001b[0;32m     49\u001b[0m \u001b[38;5;28;01mfrom\u001b[39;00m \u001b[38;5;21;01mopenpyxl\u001b[39;00m\u001b[38;5;21;01m.\u001b[39;00m\u001b[38;5;21;01mworkbook\u001b[39;00m \u001b[38;5;28;01mimport\u001b[39;00m Workbook\n\u001b[0;32m     51\u001b[0m engine_kwargs \u001b[38;5;241m=\u001b[39m combine_kwargs(engine_kwargs, kwargs)\n\u001b[1;32m---> 53\u001b[0m \u001b[38;5;28;43msuper\u001b[39;49m\u001b[43m(\u001b[49m\u001b[43m)\u001b[49m\u001b[38;5;241;43m.\u001b[39;49m\u001b[38;5;21;43m__init__\u001b[39;49m\u001b[43m(\u001b[49m\n\u001b[0;32m     54\u001b[0m \u001b[43m    \u001b[49m\u001b[43mpath\u001b[49m\u001b[43m,\u001b[49m\n\u001b[0;32m     55\u001b[0m \u001b[43m    \u001b[49m\u001b[43mmode\u001b[49m\u001b[38;5;241;43m=\u001b[39;49m\u001b[43mmode\u001b[49m\u001b[43m,\u001b[49m\n\u001b[0;32m     56\u001b[0m \u001b[43m    \u001b[49m\u001b[43mstorage_options\u001b[49m\u001b[38;5;241;43m=\u001b[39;49m\u001b[43mstorage_options\u001b[49m\u001b[43m,\u001b[49m\n\u001b[0;32m     57\u001b[0m \u001b[43m    \u001b[49m\u001b[43mif_sheet_exists\u001b[49m\u001b[38;5;241;43m=\u001b[39;49m\u001b[43mif_sheet_exists\u001b[49m\u001b[43m,\u001b[49m\n\u001b[0;32m     58\u001b[0m \u001b[43m    \u001b[49m\u001b[43mengine_kwargs\u001b[49m\u001b[38;5;241;43m=\u001b[39;49m\u001b[43mengine_kwargs\u001b[49m\u001b[43m,\u001b[49m\n\u001b[0;32m     59\u001b[0m \u001b[43m\u001b[49m\u001b[43m)\u001b[49m\n\u001b[0;32m     61\u001b[0m \u001b[38;5;66;03m# ExcelWriter replaced \"a\" by \"r+\" to allow us to first read the excel file from\u001b[39;00m\n\u001b[0;32m     62\u001b[0m \u001b[38;5;66;03m# the file and later write to it\u001b[39;00m\n\u001b[0;32m     63\u001b[0m \u001b[38;5;28;01mif\u001b[39;00m \u001b[38;5;124m\"\u001b[39m\u001b[38;5;124mr+\u001b[39m\u001b[38;5;124m\"\u001b[39m \u001b[38;5;129;01min\u001b[39;00m \u001b[38;5;28mself\u001b[39m\u001b[38;5;241m.\u001b[39mmode:  \u001b[38;5;66;03m# Load from existing workbook\u001b[39;00m\n",
      "File \u001b[1;32m~\\Anaconda3\\lib\\site-packages\\pandas\\io\\excel\\_base.py:1106\u001b[0m, in \u001b[0;36mExcelWriter.__init__\u001b[1;34m(self, path, engine, date_format, datetime_format, mode, storage_options, if_sheet_exists, engine_kwargs, **kwargs)\u001b[0m\n\u001b[0;32m   1102\u001b[0m \u001b[38;5;28mself\u001b[39m\u001b[38;5;241m.\u001b[39mhandles \u001b[38;5;241m=\u001b[39m IOHandles(\n\u001b[0;32m   1103\u001b[0m     cast(IO[\u001b[38;5;28mbytes\u001b[39m], path), compression\u001b[38;5;241m=\u001b[39m{\u001b[38;5;124m\"\u001b[39m\u001b[38;5;124mcompression\u001b[39m\u001b[38;5;124m\"\u001b[39m: \u001b[38;5;28;01mNone\u001b[39;00m}\n\u001b[0;32m   1104\u001b[0m )\n\u001b[0;32m   1105\u001b[0m \u001b[38;5;28;01mif\u001b[39;00m \u001b[38;5;129;01mnot\u001b[39;00m \u001b[38;5;28misinstance\u001b[39m(path, ExcelWriter):\n\u001b[1;32m-> 1106\u001b[0m     \u001b[38;5;28mself\u001b[39m\u001b[38;5;241m.\u001b[39mhandles \u001b[38;5;241m=\u001b[39m \u001b[43mget_handle\u001b[49m\u001b[43m(\u001b[49m\n\u001b[0;32m   1107\u001b[0m \u001b[43m        \u001b[49m\u001b[43mpath\u001b[49m\u001b[43m,\u001b[49m\u001b[43m \u001b[49m\u001b[43mmode\u001b[49m\u001b[43m,\u001b[49m\u001b[43m \u001b[49m\u001b[43mstorage_options\u001b[49m\u001b[38;5;241;43m=\u001b[39;49m\u001b[43mstorage_options\u001b[49m\u001b[43m,\u001b[49m\u001b[43m \u001b[49m\u001b[43mis_text\u001b[49m\u001b[38;5;241;43m=\u001b[39;49m\u001b[38;5;28;43;01mFalse\u001b[39;49;00m\n\u001b[0;32m   1108\u001b[0m \u001b[43m    \u001b[49m\u001b[43m)\u001b[49m\n\u001b[0;32m   1109\u001b[0m \u001b[38;5;28mself\u001b[39m\u001b[38;5;241m.\u001b[39msheets: \u001b[38;5;28mdict\u001b[39m[\u001b[38;5;28mstr\u001b[39m, Any] \u001b[38;5;241m=\u001b[39m {}\n\u001b[0;32m   1110\u001b[0m \u001b[38;5;28mself\u001b[39m\u001b[38;5;241m.\u001b[39mcur_sheet \u001b[38;5;241m=\u001b[39m \u001b[38;5;28;01mNone\u001b[39;00m\n",
      "File \u001b[1;32m~\\Anaconda3\\lib\\site-packages\\pandas\\io\\common.py:798\u001b[0m, in \u001b[0;36mget_handle\u001b[1;34m(path_or_buf, mode, encoding, compression, memory_map, is_text, errors, storage_options)\u001b[0m\n\u001b[0;32m    789\u001b[0m         handle \u001b[38;5;241m=\u001b[39m \u001b[38;5;28mopen\u001b[39m(\n\u001b[0;32m    790\u001b[0m             handle,\n\u001b[0;32m    791\u001b[0m             ioargs\u001b[38;5;241m.\u001b[39mmode,\n\u001b[1;32m   (...)\u001b[0m\n\u001b[0;32m    794\u001b[0m             newline\u001b[38;5;241m=\u001b[39m\u001b[38;5;124m\"\u001b[39m\u001b[38;5;124m\"\u001b[39m,\n\u001b[0;32m    795\u001b[0m         )\n\u001b[0;32m    796\u001b[0m     \u001b[38;5;28;01melse\u001b[39;00m:\n\u001b[0;32m    797\u001b[0m         \u001b[38;5;66;03m# Binary mode\u001b[39;00m\n\u001b[1;32m--> 798\u001b[0m         handle \u001b[38;5;241m=\u001b[39m \u001b[38;5;28;43mopen\u001b[39;49m\u001b[43m(\u001b[49m\u001b[43mhandle\u001b[49m\u001b[43m,\u001b[49m\u001b[43m \u001b[49m\u001b[43mioargs\u001b[49m\u001b[38;5;241;43m.\u001b[39;49m\u001b[43mmode\u001b[49m\u001b[43m)\u001b[49m\n\u001b[0;32m    799\u001b[0m     handles\u001b[38;5;241m.\u001b[39mappend(handle)\n\u001b[0;32m    801\u001b[0m \u001b[38;5;66;03m# Convert BytesIO or file objects passed with an encoding\u001b[39;00m\n",
      "\u001b[1;31mPermissionError\u001b[0m: [Errno 13] Permission denied: 'pokemon_data.xlsx'"
     ]
    }
   ],
   "source": [
    "# Download the data from the provided link\n",
    "url = \"https://raw.githubusercontent.com/Biuni/PokemonGO-Pokedex/master/pokedex.json\"\n",
    "data = download_data(url)\n",
    "\n",
    "# Convert the data to a structured DataFrame\n",
    "df = convert_to_dataframe(data)\n",
    "\n",
    "# Export the DataFrame to an Excel file\n",
    "excel_filename = \"pokemon_data.xlsx\"\n",
    "export_to_excel(df, excel_filename)\n",
    "print(f\"Data exported to {excel_filename}\")"
   ]
  },
  {
   "cell_type": "markdown",
   "id": "6bd39054",
   "metadata": {},
   "source": [
    "# Question 10"
   ]
  },
  {
   "cell_type": "markdown",
   "id": "541dfa7f",
   "metadata": {},
   "source": [
    "Write a program to count the number of verbs, nouns, pronouns, and adjectives in a given particular phrase or\n",
    "paragraph, and return their respective count as a dictionary."
   ]
  },
  {
   "cell_type": "code",
   "execution_count": 12,
   "id": "ebfae356",
   "metadata": {},
   "outputs": [
    {
     "name": "stderr",
     "output_type": "stream",
     "text": [
      "[nltk_data] Downloading package punkt to\n",
      "[nltk_data]     C:\\Users\\8092\\AppData\\Roaming\\nltk_data...\n",
      "[nltk_data]   Package punkt is already up-to-date!\n",
      "[nltk_data] Downloading package averaged_perceptron_tagger to\n",
      "[nltk_data]     C:\\Users\\8092\\AppData\\Roaming\\nltk_data...\n",
      "[nltk_data]   Unzipping taggers\\averaged_perceptron_tagger.zip.\n"
     ]
    }
   ],
   "source": [
    "import nltk \n",
    "nltk.download('punkt')\n",
    "nltk.download('averaged_perceptron_tagger')\n",
    "from nltk.tokenize import word_tokenize\n",
    "from nltk.tag import pos_tag"
   ]
  },
  {
   "cell_type": "code",
   "execution_count": 16,
   "id": "b976410a",
   "metadata": {},
   "outputs": [],
   "source": [
    "def count_pos_tags(paragraph):\n",
    "    words = word_tokenize(paragraph)\n",
    "    tagged_words = pos_tag(words)\n",
    "    \n",
    "    verb_count = 0\n",
    "    noun_count = 0\n",
    "    pronoun_count = 0\n",
    "    adjective_count = 0\n",
    "    \n",
    "    for word, tag in tagged_words:\n",
    "        if tag.startswith('VB'): # Verb\n",
    "            verb_count+=1\n",
    "        elif tag.startswith('NN'): # Noun\n",
    "            noun_count+=1\n",
    "        elif tag == 'PRP' or tag == 'PRP$': # Pronoun\n",
    "            pronoun_count+=1\n",
    "        elif tag.startswith('JJ'): # Adjective\n",
    "            adjective_count+=1\n",
    "            \n",
    "    pos_counts={\n",
    "        'verbs': verb_count,\n",
    "        'nouns':  noun_count,\n",
    "        'pronouns': pronoun_count,\n",
    "        'adjective': adjective_count\n",
    "        \n",
    "    }\n",
    "    \n",
    "    return pos_counts\n",
    "        \n",
    "           "
   ]
  },
  {
   "cell_type": "code",
   "execution_count": 17,
   "id": "b7da62aa",
   "metadata": {},
   "outputs": [
    {
     "name": "stdout",
     "output_type": "stream",
     "text": [
      "{'verbs': 5, 'nouns': 2, 'pronouns': 4, 'adjective': 1}\n"
     ]
    }
   ],
   "source": [
    "text = \"I am learning Python programming and it is quite challenging, but I find it rewarding.\"\n",
    "counts = count_pos_tags(text)\n",
    "print(counts)\n"
   ]
  },
  {
   "cell_type": "code",
   "execution_count": 18,
   "id": "020a55e8",
   "metadata": {},
   "outputs": [
    {
     "name": "stdout",
     "output_type": "stream",
     "text": [
      "{'verbs': 1, 'nouns': 2, 'pronouns': 0, 'adjective': 0}\n"
     ]
    }
   ],
   "source": [
    "text = \"The cat sat on the mat.\"\n",
    "counts = count_pos_tags(text)\n",
    "print(counts)"
   ]
  },
  {
   "cell_type": "code",
   "execution_count": null,
   "id": "40121308",
   "metadata": {},
   "outputs": [],
   "source": []
  }
 ],
 "metadata": {
  "kernelspec": {
   "display_name": "Python 3 (ipykernel)",
   "language": "python",
   "name": "python3"
  },
  "language_info": {
   "codemirror_mode": {
    "name": "ipython",
    "version": 3
   },
   "file_extension": ".py",
   "mimetype": "text/x-python",
   "name": "python",
   "nbconvert_exporter": "python",
   "pygments_lexer": "ipython3",
   "version": "3.9.12"
  }
 },
 "nbformat": 4,
 "nbformat_minor": 5
}
