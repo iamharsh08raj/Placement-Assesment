{
 "cells": [
  {
   "cell_type": "code",
   "execution_count": 5,
   "id": "2f2ed0e2",
   "metadata": {},
   "outputs": [],
   "source": [
    "import requests\n",
    "import csv\n",
    "from datetime import datetime"
   ]
  },
  {
   "cell_type": "code",
   "execution_count": 20,
   "id": "38ef6787",
   "metadata": {},
   "outputs": [],
   "source": [
    "def download_data(url):\n",
    "    response = requests.get(url)\n",
    "    if response.status_code == 200:\n",
    "        return response.json()\n",
    "    else:\n",
    "        raise Exception(\"Failed to download data\")\n"
   ]
  },
  {
   "cell_type": "code",
   "execution_count": 21,
   "id": "70554242",
   "metadata": {},
   "outputs": [],
   "source": [
    "def process_data(data):\n",
    "    processed_data = []\n",
    "    for item in data:\n",
    "        mass = float(item.get(\"mass\", 0))\n",
    "        year = datetime.strptime(item.get(\"year\", \"1900-01-01T00:00:00.000\"), \"%Y-%m-%dT%H:%M:%S.%f\")\n",
    "        reclat = float(item.get(\"reclat\", 0))\n",
    "        reclong = float(item.get(\"reclong\", 0))\n",
    "        coordinates = item[\"geolocation\"].get(\"coordinates\", [0, 0])\n",
    "\n",
    "        processed_item = {\n",
    "            \"Name of Earth Meteorite\": item[\"name\"],\n",
    "            \"id\": int(item[\"id\"]),\n",
    "            \"nametype\": item[\"nametype\"],\n",
    "            \"recclass\": item[\"recclass\"],\n",
    "            \"mass\": mass,\n",
    "            \"year\": year,\n",
    "            \"reclat\": reclat,\n",
    "            \"reclong\": reclong,\n",
    "            \"point coordinates\": coordinates\n",
    "        }\n",
    "        processed_data.append(processed_item)\n",
    "    return processed_data"
   ]
  },
  {
   "cell_type": "code",
   "execution_count": 22,
   "id": "4e8c5915",
   "metadata": {},
   "outputs": [],
   "source": [
    "def save_as_csv(data, filename):\n",
    "    fieldnames = [\n",
    "        \"Name of Earth Meteorite\", \"id\", \"nametype\", \"recclass\",\n",
    "        \"mass\", \"year\", \"reclat\", \"reclong\", \"point coordinates\"\n",
    "    ]\n",
    "    with open(filename, mode='w', newline='') as file:\n",
    "        writer = csv.DictWriter(file, fieldnames=fieldnames)\n",
    "        writer.writeheader()\n",
    "        writer.writerows(data)"
   ]
  },
  {
   "cell_type": "code",
   "execution_count": 23,
   "id": "3b7358ee",
   "metadata": {},
   "outputs": [
    {
     "ename": "KeyError",
     "evalue": "'geolocation'",
     "output_type": "error",
     "traceback": [
      "\u001b[1;31m---------------------------------------------------------------------------\u001b[0m",
      "\u001b[1;31mKeyError\u001b[0m                                  Traceback (most recent call last)",
      "Input \u001b[1;32mIn [23]\u001b[0m, in \u001b[0;36m<cell line: 9>\u001b[1;34m()\u001b[0m\n\u001b[0;32m      6\u001b[0m data \u001b[38;5;241m=\u001b[39m download_data(data_url)\n\u001b[0;32m      8\u001b[0m \u001b[38;5;66;03m# Process data\u001b[39;00m\n\u001b[1;32m----> 9\u001b[0m processed_data \u001b[38;5;241m=\u001b[39m \u001b[43mprocess_data\u001b[49m\u001b[43m(\u001b[49m\u001b[43mdata\u001b[49m\u001b[43m)\u001b[49m\n\u001b[0;32m     11\u001b[0m \u001b[38;5;66;03m# Save as CSV\u001b[39;00m\n\u001b[0;32m     12\u001b[0m save_as_csv(processed_data, output_filename)\n",
      "Input \u001b[1;32mIn [21]\u001b[0m, in \u001b[0;36mprocess_data\u001b[1;34m(data)\u001b[0m\n\u001b[0;32m      6\u001b[0m reclat \u001b[38;5;241m=\u001b[39m \u001b[38;5;28mfloat\u001b[39m(item\u001b[38;5;241m.\u001b[39mget(\u001b[38;5;124m\"\u001b[39m\u001b[38;5;124mreclat\u001b[39m\u001b[38;5;124m\"\u001b[39m, \u001b[38;5;241m0\u001b[39m))\n\u001b[0;32m      7\u001b[0m reclong \u001b[38;5;241m=\u001b[39m \u001b[38;5;28mfloat\u001b[39m(item\u001b[38;5;241m.\u001b[39mget(\u001b[38;5;124m\"\u001b[39m\u001b[38;5;124mreclong\u001b[39m\u001b[38;5;124m\"\u001b[39m, \u001b[38;5;241m0\u001b[39m))\n\u001b[1;32m----> 8\u001b[0m coordinates \u001b[38;5;241m=\u001b[39m \u001b[43mitem\u001b[49m\u001b[43m[\u001b[49m\u001b[38;5;124;43m\"\u001b[39;49m\u001b[38;5;124;43mgeolocation\u001b[39;49m\u001b[38;5;124;43m\"\u001b[39;49m\u001b[43m]\u001b[49m\u001b[38;5;241m.\u001b[39mget(\u001b[38;5;124m\"\u001b[39m\u001b[38;5;124mcoordinates\u001b[39m\u001b[38;5;124m\"\u001b[39m, [\u001b[38;5;241m0\u001b[39m, \u001b[38;5;241m0\u001b[39m])\n\u001b[0;32m     10\u001b[0m processed_item \u001b[38;5;241m=\u001b[39m {\n\u001b[0;32m     11\u001b[0m     \u001b[38;5;124m\"\u001b[39m\u001b[38;5;124mName of Earth Meteorite\u001b[39m\u001b[38;5;124m\"\u001b[39m: item[\u001b[38;5;124m\"\u001b[39m\u001b[38;5;124mname\u001b[39m\u001b[38;5;124m\"\u001b[39m],\n\u001b[0;32m     12\u001b[0m     \u001b[38;5;124m\"\u001b[39m\u001b[38;5;124mid\u001b[39m\u001b[38;5;124m\"\u001b[39m: \u001b[38;5;28mint\u001b[39m(item[\u001b[38;5;124m\"\u001b[39m\u001b[38;5;124mid\u001b[39m\u001b[38;5;124m\"\u001b[39m]),\n\u001b[1;32m   (...)\u001b[0m\n\u001b[0;32m     19\u001b[0m     \u001b[38;5;124m\"\u001b[39m\u001b[38;5;124mpoint coordinates\u001b[39m\u001b[38;5;124m\"\u001b[39m: coordinates\n\u001b[0;32m     20\u001b[0m }\n\u001b[0;32m     21\u001b[0m processed_data\u001b[38;5;241m.\u001b[39mappend(processed_item)\n",
      "\u001b[1;31mKeyError\u001b[0m: 'geolocation'"
     ]
    }
   ],
   "source": [
    "# Main program\n",
    "data_url = \"https://data.nasa.gov/resource/y77d-th95.json\"\n",
    "output_filename = \"meteorite_data.csv\"\n",
    "\n",
    "# Download data\n",
    "data = download_data(data_url)\n",
    "\n",
    "# Process data\n",
    "processed_data = process_data(data)\n",
    "\n",
    "# Save as CSV\n",
    "save_as_csv(processed_data, output_filename)"
   ]
  },
  {
   "cell_type": "code",
   "execution_count": 27,
   "id": "4fe85303",
   "metadata": {},
   "outputs": [
    {
     "ename": "SyntaxError",
     "evalue": "EOL while scanning string literal (674022659.py, line 92)",
     "output_type": "error",
     "traceback": [
      "\u001b[1;36m  Input \u001b[1;32mIn [27]\u001b[1;36m\u001b[0m\n\u001b[1;33m    print(f\"Original Image Link: {episode['original_image_link']})\u001b[0m\n\u001b[1;37m                                                                  ^\u001b[0m\n\u001b[1;31mSyntaxError\u001b[0m\u001b[1;31m:\u001b[0m EOL while scanning string literal\n"
     ]
    }
   ],
   "source": [
    "import requests\n",
    "import json\n",
    "from bs4 import BeautifulSoup\n",
    "\n",
    "def download_and_extract_data(api_url):\n",
    "    # Send GET request to the API\n",
    "    response = requests.get(api_url)\n",
    "    \n",
    "    # Check if the request was successful\n",
    "    if response.status_code == 200:\n",
    "        # Parse the JSON response\n",
    "        data = json.loads(response.text)\n",
    "        \n",
    "        # Extract show information\n",
    "        show_info = {\n",
    "            \"id\": data[\"id\"],\n",
    "            \"url\": data[\"url\"],\n",
    "            \"name\": data[\"name\"],\n",
    "            \"type\": data[\"type\"],\n",
    "            \"season\": None,\n",
    "            \"number\": None,\n",
    "            \"airdate\": None,\n",
    "            \"airtime\": None,\n",
    "            \"runtime\": None,\n",
    "            \"average_rating\": None,\n",
    "            \"summary\": None,\n",
    "            \"medium_image_link\": None,\n",
    "            \"original_image_link\": None\n",
    "        }\n",
    "        \n",
    "        # Extract episode information\n",
    "        episodes = data[\"_embedded\"][\"episodes\"]\n",
    "        episode_info = []\n",
    "        for episode in episodes:\n",
    "            episode_data = {\n",
    "                \"id\": episode[\"id\"],\n",
    "                \"url\": episode[\"url\"],\n",
    "                \"name\": episode[\"name\"],\n",
    "                \"season\": episode[\"season\"],\n",
    "                \"number\": episode[\"number\"],\n",
    "                \"type\": episode[\"type\"],\n",
    "                \"airdate\": episode[\"airdate\"],\n",
    "                \"airtime\": episode[\"airtime\"],\n",
    "                \"runtime\": episode[\"runtime\"],\n",
    "                \"average_rating\": episode[\"rating\"][\"average\"],\n",
    "                \"summary\": None,\n",
    "                \"medium_image_link\": episode[\"image\"][\"medium\"],\n",
    "                \"original_image_link\": episode[\"image\"][\"original\"]\n",
    "            }\n",
    "            \n",
    "            # Extract episode summary without HTML tags\n",
    "            summary_html = episode[\"summary\"]\n",
    "            summary_text = BeautifulSoup(summary_html, \"html.parser\").get_text()\n",
    "            episode_data[\"summary\"] = summary_text\n",
    "            \n",
    "            episode_info.append(episode_data)\n",
    "        \n",
    "        return show_info, episode_info\n",
    "    else:\n",
    "        # Request was not successful\n",
    "        print(f\"Error: {response.status_code} - {response.reason}\")\n",
    "\n",
    "# API URL\n",
    "api_url = \"http://api.tvmaze.com/singlesearch/shows?q=westworld&embed=episodes\"\n",
    "\n",
    "# Download and extract data\n",
    "show_info, episode_info = download_and_extract_data(api_url)\n",
    "\n",
    "# Print show information\n",
    "print(\"Show Information:\")\n",
    "print(f\"ID: {show_info['id']}\")\n",
    "print(f\"URL: {show_info['url']}\")\n",
    "print(f\"Name: {show_info['name']}\")\n",
    "print(f\"Type: {show_info['type']}\")\n",
    "print()\n",
    "\n",
    "# Print episode information\n",
    "print(\"Episode Information:\")\n",
    "for episode in episode_info:\n",
    "    print(f\"ID: {episode['id']}\")\n",
    "    print(f\"URL: {episode['url']}\")\n",
    "    print(f\"Name: {episode['name']}\")\n",
    "    print(f\"Season: {episode['season']}\")\n",
    "    print(f\"Number: {episode['number']}\")\n",
    "    print(f\"Type: {episode['type']}\")\n",
    "    print(f\"Airdate: {episode['airdate']}\")\n",
    "    print(f\"Airtime: {episode['airtime']}\")\n",
    "    print(f\"Runtime: {episode['runtime']}\")\n",
    "    print(f\"Average Rating: {episode['average_rating']}\")\n",
    "    print(f\"Summary: {episode['summary']}\")\n",
    "    print(f\"Medium Image Link: {episode['medium_image_link']}\")\n",
    "    print(f\"Original Image Link: {episode['original_image_link']}\")\"\n",
    "    \n"
   ]
  },
  {
   "cell_type": "code",
   "execution_count": null,
   "id": "8d7a7815",
   "metadata": {},
   "outputs": [],
   "source": []
  }
 ],
 "metadata": {
  "kernelspec": {
   "display_name": "Python 3 (ipykernel)",
   "language": "python",
   "name": "python3"
  },
  "language_info": {
   "codemirror_mode": {
    "name": "ipython",
    "version": 3
   },
   "file_extension": ".py",
   "mimetype": "text/x-python",
   "name": "python",
   "nbconvert_exporter": "python",
   "pygments_lexer": "ipython3",
   "version": "3.9.12"
  }
 },
 "nbformat": 4,
 "nbformat_minor": 5
}
