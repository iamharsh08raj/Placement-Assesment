{
 "cells": [
  {
   "cell_type": "code",
   "execution_count": 5,
   "id": "dff26e4c",
   "metadata": {},
   "outputs": [],
   "source": [
    "class ListNode:\n",
    "    def __init__(self, val=0, next=None):\n",
    "        self.val = val\n",
    "        self.next = next\n",
    "\n",
    "def addTwoNumbers(l1, l2):\n",
    "    dummy = ListNode()  # Create a dummy node as the starting point of the result linked list\n",
    "    curr = dummy  # Initialize a current pointer to traverse and build the result linked list\n",
    "    carry = 0  # Initialize the carry to 0\n",
    "\n",
    "    while l1 or l2 or carry:\n",
    "        # Get the values of the current nodes (if available) and the carry\n",
    "        val1 = l1.val if l1 else 0\n",
    "        val2 = l2.val if l2 else 0\n",
    "\n",
    "        # Compute the sum of the digits and the carry\n",
    "        total = val1 + val2 + carry\n",
    "        carry = total // 10  # Get the new carry\n",
    "        digit = total % 10  # Get the new digit for the result linked list\n",
    "\n",
    "        # Create a new node with the digit and set it as the next node of the current pointer\n",
    "        curr.next = ListNode(digit)\n",
    "\n",
    "        # Move the current pointer and the pointers for the input linked lists\n",
    "        curr = curr.next\n",
    "        l1 = l1.next if l1 else None\n",
    "        l2 = l2.next if l2 else None\n",
    "\n",
    "    return dummy.next  # Return the next node of the dummy node, which is the actual result linked list\n"
   ]
  },
  {
   "cell_type": "code",
   "execution_count": 6,
   "id": "672f5d36",
   "metadata": {},
   "outputs": [],
   "source": [
    "l1 = ListNode(2)\n",
    "l1.next = ListNode(4)\n",
    "l1.next.next = ListNode(3)\n",
    "\n",
    "l2 = ListNode(5)\n",
    "l2.next = ListNode(6)\n",
    "l2.next.next = ListNode(4)\n",
    "\n",
    "result = addTwoNumbers(l1, l2)\n",
    "# The result is [7, 0, 8]\n"
   ]
  },
  {
   "cell_type": "code",
   "execution_count": 7,
   "id": "7daf9b60",
   "metadata": {},
   "outputs": [],
   "source": [
    "l1 = ListNode(0)\n",
    "l2 = ListNode(0)\n",
    "\n",
    "result = addTwoNumbers(l1, l2)\n",
    "# The result is [0]\n"
   ]
  },
  {
   "cell_type": "code",
   "execution_count": 8,
   "id": "ac915c0e",
   "metadata": {},
   "outputs": [
    {
     "data": {
      "text/plain": [
       "<__main__.ListNode at 0x22109b6d420>"
      ]
     },
     "execution_count": 8,
     "metadata": {},
     "output_type": "execute_result"
    }
   ],
   "source": [
    "l1 = ListNode(9)\n",
    "l1.next = ListNode(9)\n",
    "l1.next.next = ListNode(9)\n",
    "l1.next.next.next = ListNode(9)\n",
    "l1.next.next\n"
   ]
  },
  {
   "cell_type": "code",
   "execution_count": null,
   "id": "57dbbbb7",
   "metadata": {},
   "outputs": [],
   "source": []
  }
 ],
 "metadata": {
  "kernelspec": {
   "display_name": "Python 3 (ipykernel)",
   "language": "python",
   "name": "python3"
  },
  "language_info": {
   "codemirror_mode": {
    "name": "ipython",
    "version": 3
   },
   "file_extension": ".py",
   "mimetype": "text/x-python",
   "name": "python",
   "nbconvert_exporter": "python",
   "pygments_lexer": "ipython3",
   "version": "3.10.9"
  }
 },
 "nbformat": 4,
 "nbformat_minor": 5
}
